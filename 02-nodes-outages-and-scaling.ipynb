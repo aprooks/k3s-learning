{
 "cells": [
  {
   "cell_type": "code",
   "execution_count": 9,
   "metadata": {},
   "outputs": [
    {
     "name": "stdout",
     "output_type": "stream",
     "text": [
      "Creating network \"k8s_default\" with the default driver\n",
      "Creating volume \"k8s_k3s-server\" with default driver\n",
      "Creating k8s_server_1 ... \n",
      "\u001b[1Bting k8s_server_1 ... \u001b[32mdone\u001b[0mCreating k8s_node_1   ... \n",
      "Creating k8s_node_2   ... \n",
      "Creating k8s_node_3   ... \n",
      "\u001b[2Bting k8s_node_2   ... \u001b[32mdone\u001b[0m\u001b[3A\u001b[2K\u001b[2A\u001b[2K"
     ]
    }
   ],
   "source": [
    "!docker-compose up -d --scale node=3"
   ]
  },
  {
   "cell_type": "code",
   "execution_count": 12,
   "metadata": {},
   "outputs": [],
   "source": [
    "!cp kubeconfig.yaml ~/.kube/config"
   ]
  },
  {
   "cell_type": "code",
   "execution_count": 13,
   "metadata": {},
   "outputs": [
    {
     "name": "stdout",
     "output_type": "stream",
     "text": [
      "apiVersion: v1\r\n",
      "clusters:\r\n",
      "- cluster:\r\n",
      "    certificate-authority-data: LS0tLS1CRUdJTiBDRVJUSUZJQ0FURS0tLS0tCk1JSUM1RENDQWN5Z0F3SUJBZ0lCQURBTkJna3Foa2lHOXcwQkFRc0ZBREFqTVJBd0RnWURWUVFLRXdkck0zTXQKYjNKbk1ROHdEUVlEVlFRREV3WnJNM010WTJFd0hoY05NVGt3TmpFMk1UazFNREU1V2hjTk1qa3dOakV6TVRrMQpNREU1V2pBak1SQXdEZ1lEVlFRS0V3ZHJNM010YjNKbk1ROHdEUVlEVlFRREV3WnJNM010WTJFd2dnRWlNQTBHCkNTcUdTSWIzRFFFQkFRVUFBNElCRHdBd2dnRUtBb0lCQVFER3JFalBmdk5kdVRIWGwzZkFHNmRNKzk0eEhuZncKUUxaQ2lCOXZNRmFPb1d6NWFzSzZ3MjJOQnc2QkJ4bnk2a3dyYjd0cXdXTXhOVHlNNWdHdjk5N1hFZGRPTWxLUQpFN1liYWRFYUpYdEorSVdxYlV6MHR3b21GTHJFOHZBbzRrZFEyU2NnU2JSUXBJSUc5UDhSLzVqQ1FFZkNIV1pYCkNhakg1WmhsTmxiYWp5VjdYc3RZRE95Q0FCZ2lvRWRkM0J1cDNtaGJGUXViYTZxd3RhRXBQaXRMQmVXNkduelQKcFMxS01ZZkhydnVYZU1JTWhFUDFSankwazYzcnN0TG05Z0h3MzExa21mTFV1Ryt5YXVrSUJTS3RHMmRiL1I2MApaUGpZOUU5ZnBRaVEzaGlJZ2JSSjFHQ2FXdWN0bHdCRmZ0eWpucE9RU1UyVXZ3d1daWTBuTzhWaEFnTUJBQUdqCkl6QWhNQTRHQTFVZER3RUIvd1FFQXdJQ3BEQVBCZ05WSFJNQkFmOEVCVEFEQVFIL01BMEdDU3FHU0liM0RRRUIKQ3dVQUE0SUJBUUFlOU50bkJZalp3VmV4d0tCcmxxa0pQWEx0cXMyek9adDlTUExnd2JaYno0d3ZYaHZ4SzEydQpTbU5EbGRyMWtKYkpCK1I5RkMwRE9YMUUyTDlVVHo5VWxzUVpqTWEwWGVIc2o3ZzdQUE5ScXdSYXkycDh6d1phCkxLTndYUEJLamZrK0VweXlTenhBQy9tQ3h5VHlxV3ArTUdFMS92TDZLU1dJVCtZMDY1cEpFUlNrZndoL3pOWlgKOXVaK3hGcGd2aGJrd0J2cVF6TlJ6UVpVWklWMXB6VExrZ1Y0SzdGRGNHOFo4YTQ4S2RkZG0wT3M4L3g2cy9TYQpMa3o0SHdxczM1ek5XL3JKZVlxVWpaazFJV3NYZlFTMGQ1M3pKUGxVQXhLV0FUcHE4Q3ovSjhOeXdzckxvaUk4CnNhb0MwcS8raElhbGtmRzJ5N1JsV3BhTUxUR0FLSzY1Ci0tLS0tRU5EIENFUlRJRklDQVRFLS0tLS0K\r\n",
      "    server: https://localhost:6443\r\n",
      "  name: default\r\n",
      "contexts:\r\n",
      "- context:\r\n",
      "    cluster: default\r\n",
      "    user: default\r\n",
      "  name: default\r\n",
      "current-context: default\r\n",
      "kind: Config\r\n",
      "preferences: {}\r\n",
      "users:\r\n",
      "- name: default\r\n",
      "  user:\r\n",
      "    password: fa9506a7cb7104a6aee34cf6b86be83a\r\n",
      "    username: admin\r\n"
     ]
    }
   ],
   "source": [
    "cat kubeconfig.yaml"
   ]
  },
  {
   "cell_type": "code",
   "execution_count": 14,
   "metadata": {},
   "outputs": [
    {
     "name": "stdout",
     "output_type": "stream",
     "text": [
      "No resources found.\r\n"
     ]
    }
   ],
   "source": [
    "!kubectl get pods"
   ]
  },
  {
   "cell_type": "code",
   "execution_count": 15,
   "metadata": {},
   "outputs": [
    {
     "name": "stdout",
     "output_type": "stream",
     "text": [
      "deployment.apps \"hello-world\" created\r\n"
     ]
    }
   ],
   "source": [
    "\n",
    "!kubectl run hello-world \\\n",
    "    --replicas=2 \\\n",
    "    --labels=\"run=load-balancer-example\" \\\n",
    "    --image=gcr.io/google-samples/node-hello:1.0  \\\n",
    "    --port=8080"
   ]
  },
  {
   "cell_type": "code",
   "execution_count": 19,
   "metadata": {},
   "outputs": [
    {
     "name": "stdout",
     "output_type": "stream",
     "text": [
      "NAME          DESIRED   CURRENT   UP-TO-DATE   AVAILABLE   AGE\r\n",
      "hello-world   2         2         2            2           3m\r\n"
     ]
    }
   ],
   "source": [
    "!kubectl get deployments"
   ]
  },
  {
   "cell_type": "code",
   "execution_count": 25,
   "metadata": {},
   "outputs": [
    {
     "name": "stdout",
     "output_type": "stream",
     "text": [
      "Name:                   hello-world\r\n",
      "Namespace:              default\r\n",
      "CreationTimestamp:      Sun, 16 Jun 2019 22:01:29 +0200\r\n",
      "Labels:                 run=load-balancer-example\r\n",
      "Annotations:            deployment.kubernetes.io/revision=1\r\n",
      "Selector:               run=load-balancer-example\r\n",
      "Replicas:               2 desired | 2 updated | 2 total | 2 available | 0 unavailable\r\n",
      "StrategyType:           RollingUpdate\r\n",
      "MinReadySeconds:        0\r\n",
      "RollingUpdateStrategy:  1 max unavailable, 1 max surge\r\n",
      "Pod Template:\r\n",
      "  Labels:  run=load-balancer-example\r\n",
      "  Containers:\r\n",
      "   hello-world:\r\n",
      "    Image:        gcr.io/google-samples/node-hello:1.0\r\n",
      "    Port:         8080/TCP\r\n",
      "    Host Port:    0/TCP\r\n",
      "    Environment:  <none>\r\n",
      "    Mounts:       <none>\r\n",
      "  Volumes:        <none>\r\n",
      "Conditions:\r\n",
      "  Type           Status  Reason\r\n",
      "  ----           ------  ------\r\n",
      "  Available      True    MinimumReplicasAvailable\r\n",
      "OldReplicaSets:  <none>\r\n",
      "NewReplicaSet:   hello-world-68ff65cf7 (2/2 replicas created)\r\n",
      "Events:\r\n",
      "  Type    Reason             Age   From                   Message\r\n",
      "  ----    ------             ----  ----                   -------\r\n",
      "  Normal  ScalingReplicaSet  4m    deployment-controller  Scaled up replica set hello-world-68ff65cf7 to 2\r\n"
     ]
    }
   ],
   "source": [
    "!kubectl describe deployments"
   ]
  },
  {
   "cell_type": "code",
   "execution_count": 26,
   "metadata": {},
   "outputs": [
    {
     "name": "stdout",
     "output_type": "stream",
     "text": [
      "NAME                          READY     STATUS    RESTARTS   AGE       IP          NODE\r\n",
      "hello-world-68ff65cf7-8lbzg   1/1       Running   0          4m        10.42.2.4   b7d984be7952\r\n",
      "hello-world-68ff65cf7-wzwgr   1/1       Running   0          4m        10.42.1.4   99539420d0d2\r\n"
     ]
    }
   ],
   "source": [
    "!kubectl get pods --selector=\"run=load-balancer-example\" --output=wide"
   ]
  },
  {
   "cell_type": "markdown",
   "metadata": {},
   "source": [
    "### rescale deployment to make distribution more obvious"
   ]
  },
  {
   "cell_type": "code",
   "execution_count": 32,
   "metadata": {},
   "outputs": [
    {
     "name": "stdout",
     "output_type": "stream",
     "text": [
      "deployment.extensions \"hello-world\" scaled\r\n"
     ]
    }
   ],
   "source": [
    "!kubectl scale deployment --replicas=10 \"hello-world\""
   ]
  },
  {
   "cell_type": "code",
   "execution_count": 34,
   "metadata": {},
   "outputs": [
    {
     "name": "stdout",
     "output_type": "stream",
     "text": [
      "NAME          DESIRED   CURRENT   UP-TO-DATE   AVAILABLE   AGE\r\n",
      "hello-world   10        10        10           7           8m\r\n"
     ]
    }
   ],
   "source": [
    "!kubectl get deployments"
   ]
  },
  {
   "cell_type": "code",
   "execution_count": 37,
   "metadata": {},
   "outputs": [
    {
     "name": "stdout",
     "output_type": "stream",
     "text": [
      "NAME                          READY     STATUS              RESTARTS   AGE       IP          NODE\r\n",
      "hello-world-68ff65cf7-85552   1/1       Running             0          55s       10.42.2.5   b7d984be7952\r\n",
      "hello-world-68ff65cf7-8lbzg   1/1       Running             0          9m        10.42.2.4   b7d984be7952\r\n",
      "hello-world-68ff65cf7-9bzzh   0/1       ContainerCreating   0          55s       <none>      05c089864933\r\n",
      "hello-world-68ff65cf7-g9qgn   0/1       ContainerCreating   0          1m        <none>      05c089864933\r\n",
      "hello-world-68ff65cf7-h2g5r   1/1       Running             0          55s       10.42.2.6   b7d984be7952\r\n",
      "hello-world-68ff65cf7-jwmdc   1/1       Running             0          55s       10.42.1.5   99539420d0d2\r\n",
      "hello-world-68ff65cf7-k8zj4   1/1       Running             0          55s       10.42.1.6   99539420d0d2\r\n",
      "hello-world-68ff65cf7-pzhdm   1/1       Running             0          55s       10.42.1.7   99539420d0d2\r\n",
      "hello-world-68ff65cf7-rdgwv   0/1       ContainerCreating   0          55s       <none>      05c089864933\r\n",
      "hello-world-68ff65cf7-wzwgr   1/1       Running             0          9m        10.42.1.4   99539420d0d2\r\n"
     ]
    }
   ],
   "source": [
    "!kubectl get pods --selector=\"run=load-balancer-example\" --output=wide"
   ]
  },
  {
   "cell_type": "code",
   "execution_count": 46,
   "metadata": {},
   "outputs": [
    {
     "name": "stdout",
     "output_type": "stream",
     "text": [
      "NAME           STATUS    ROLES     AGE       VERSION         EXTERNAL-IP   OS-IMAGE   KERNEL-VERSION     CONTAINER-RUNTIME\r\n",
      "05c089864933   Ready     <none>    25m       v1.14.1-k3s.4   <none>        Unknown    4.9.125-linuxkit   containerd://1.2.5+unknown\r\n",
      "99539420d0d2   Ready     <none>    25m       v1.14.1-k3s.4   <none>        Unknown    4.9.125-linuxkit   containerd://1.2.5+unknown\r\n",
      "b7d984be7952   Ready     <none>    25m       v1.14.1-k3s.4   <none>        Unknown    4.9.125-linuxkit   containerd://1.2.5+unknown\r\n"
     ]
    }
   ],
   "source": [
    "!kubectl get nodes --output=wide"
   ]
  },
  {
   "cell_type": "markdown",
   "metadata": {},
   "source": [
    "### Let's kill some nodes in a non graceful way (e.g. physical outage or other nasty stuff)"
   ]
  },
  {
   "cell_type": "code",
   "execution_count": 47,
   "metadata": {},
   "outputs": [
    {
     "name": "stdout",
     "output_type": "stream",
     "text": [
      "\u001b[33mWARNING\u001b[0m: The scale command is deprecated. Use the up command with the --scale flag instead.\n",
      "Stopping and removing k8s_node_2 ... \n",
      "Stopping and removing k8s_node_3 ... \n",
      "\u001b[1Bping and removing k8s_node_3 ... \u001b[32mdone\u001b[0m\u001b[1A\u001b[2K"
     ]
    }
   ],
   "source": [
    "!docker-compose up -d --scale node=1"
   ]
  },
  {
   "cell_type": "code",
   "execution_count": 49,
   "metadata": {},
   "outputs": [
    {
     "name": "stdout",
     "output_type": "stream",
     "text": [
      "    Name                 Command             State              Ports           \r\n",
      "--------------------------------------------------------------------------------\r\n",
      "k8s_node_1     /bin/k3s agent                Up                                 \r\n",
      "k8s_server_1   /bin/k3s server --disable-    Up      0.0.0.0:6443->6443/tcp,    \r\n",
      "               ...                                   0.0.0.0:8888->80/tcp,      \r\n",
      "                                                     0.0.0.0:8880->8880/tcp     \r\n"
     ]
    }
   ],
   "source": [
    "!docker-compose ps"
   ]
  },
  {
   "cell_type": "code",
   "execution_count": 50,
   "metadata": {},
   "outputs": [
    {
     "name": "stdout",
     "output_type": "stream",
     "text": [
      "NAME           STATUS     ROLES     AGE       VERSION         EXTERNAL-IP   OS-IMAGE   KERNEL-VERSION     CONTAINER-RUNTIME\r\n",
      "05c089864933   Ready      <none>    26m       v1.14.1-k3s.4   <none>        Unknown    4.9.125-linuxkit   containerd://1.2.5+unknown\r\n",
      "99539420d0d2   NotReady   <none>    26m       v1.14.1-k3s.4   <none>        Unknown    4.9.125-linuxkit   containerd://1.2.5+unknown\r\n",
      "b7d984be7952   NotReady   <none>    26m       v1.14.1-k3s.4   <none>        Unknown    4.9.125-linuxkit   containerd://1.2.5+unknown\r\n"
     ]
    }
   ],
   "source": [
    "!kubectl get nodes --output=wide"
   ]
  },
  {
   "cell_type": "code",
   "execution_count": 54,
   "metadata": {},
   "outputs": [
    {
     "name": "stdout",
     "output_type": "stream",
     "text": [
      "NAME                          READY     STATUS    RESTARTS   AGE       IP          NODE\r\n",
      "hello-world-68ff65cf7-85552   1/1       Running   0          11m       10.42.2.5   b7d984be7952\r\n",
      "hello-world-68ff65cf7-8lbzg   1/1       Running   0          19m       10.42.2.4   b7d984be7952\r\n",
      "hello-world-68ff65cf7-9bzzh   1/1       Running   0          11m       10.42.0.6   05c089864933\r\n",
      "hello-world-68ff65cf7-g9qgn   1/1       Running   0          11m       10.42.0.4   05c089864933\r\n",
      "hello-world-68ff65cf7-h2g5r   1/1       Running   0          11m       10.42.2.6   b7d984be7952\r\n",
      "hello-world-68ff65cf7-jwmdc   1/1       Running   0          11m       10.42.1.5   99539420d0d2\r\n",
      "hello-world-68ff65cf7-k8zj4   1/1       Running   0          11m       10.42.1.6   99539420d0d2\r\n",
      "hello-world-68ff65cf7-pzhdm   1/1       Running   0          11m       10.42.1.7   99539420d0d2\r\n",
      "hello-world-68ff65cf7-rdgwv   1/1       Running   0          11m       10.42.0.5   05c089864933\r\n",
      "hello-world-68ff65cf7-wzwgr   1/1       Running   0          19m       10.42.1.4   99539420d0d2\r\n"
     ]
    }
   ],
   "source": [
    "!kubectl get pods --selector=\"run=load-balancer-example\" --output=wide"
   ]
  },
  {
   "cell_type": "markdown",
   "metadata": {},
   "source": [
    "K8s does not care much and still things that pods are running and alive even if nodes are \"not ready\""
   ]
  },
  {
   "cell_type": "code",
   "execution_count": 53,
   "metadata": {},
   "outputs": [
    {
     "name": "stdout",
     "output_type": "stream",
     "text": [
      "NAME           STATUS     ROLES     AGE       VERSION         EXTERNAL-IP   OS-IMAGE   KERNEL-VERSION     CONTAINER-RUNTIME\r\n",
      "05c089864933   Ready      <none>    30m       v1.14.1-k3s.4   <none>        Unknown    4.9.125-linuxkit   containerd://1.2.5+unknown\r\n",
      "99539420d0d2   NotReady   <none>    30m       v1.14.1-k3s.4   <none>        Unknown    4.9.125-linuxkit   containerd://1.2.5+unknown\r\n",
      "b7d984be7952   NotReady   <none>    30m       v1.14.1-k3s.4   <none>        Unknown    4.9.125-linuxkit   containerd://1.2.5+unknown\r\n"
     ]
    }
   ],
   "source": [
    "!kubectl get nodes --output=wide"
   ]
  },
  {
   "cell_type": "markdown",
   "metadata": {},
   "source": [
    "Drain is a suggestion for K8s to stop scheduling anything to those nodes.\n",
    "forced one should work but I did not care"
   ]
  },
  {
   "cell_type": "code",
   "execution_count": 56,
   "metadata": {},
   "outputs": [
    {
     "name": "stdout",
     "output_type": "stream",
     "text": [
      "node \"b7d984be7952\" cordoned\r\n",
      "error: unable to drain node \"b7d984be7952\", aborting command...\r\n",
      "\r\n",
      "There are pending nodes to be drained:\r\n",
      " b7d984be7952\r\n",
      "error: DaemonSet-managed pods (use --ignore-daemonsets to ignore): svclb-traefik-njwbm\r\n"
     ]
    }
   ],
   "source": [
    "!kubectl drain b7d984be7952"
   ]
  },
  {
   "cell_type": "code",
   "execution_count": 57,
   "metadata": {},
   "outputs": [
    {
     "name": "stdout",
     "output_type": "stream",
     "text": [
      "k8s_server_1 is up-to-date\n",
      "Starting k8s_node_1 ... \n",
      "\u001b[1BCreating k8s_node_2 ... mdone\u001b[0m\n",
      "Creating k8s_node_3 ... \n",
      "\u001b[2Bting k8s_node_2 ... \u001b[32mdone\u001b[0m\u001b[2A\u001b[2K"
     ]
    }
   ],
   "source": [
    "!docker-compose up -d --scale node=3"
   ]
  },
  {
   "cell_type": "code",
   "execution_count": 61,
   "metadata": {},
   "outputs": [
    {
     "name": "stdout",
     "output_type": "stream",
     "text": [
      "NAME           STATUS                        ROLES     AGE       VERSION         EXTERNAL-IP   OS-IMAGE   KERNEL-VERSION     CONTAINER-RUNTIME\r\n",
      "05c089864933   Ready                         <none>    32m       v1.14.1-k3s.4   <none>        Unknown    4.9.125-linuxkit   containerd://1.2.5+unknown\r\n",
      "99539420d0d2   NotReady,SchedulingDisabled   <none>    32m       v1.14.1-k3s.4   <none>        Unknown    4.9.125-linuxkit   containerd://1.2.5+unknown\r\n",
      "a0d0e78fb44c   Ready                         <none>    31s       v1.14.1-k3s.4   <none>        Unknown    4.9.125-linuxkit   containerd://1.2.5+unknown\r\n",
      "b7d984be7952   NotReady,SchedulingDisabled   <none>    32m       v1.14.1-k3s.4   <none>        Unknown    4.9.125-linuxkit   containerd://1.2.5+unknown\r\n",
      "cb1d24640ecb   Ready                         <none>    31s       v1.14.1-k3s.4   <none>        Unknown    4.9.125-linuxkit   containerd://1.2.5+unknown\r\n"
     ]
    }
   ],
   "source": [
    "!kubectl get nodes --output=wide"
   ]
  },
  {
   "cell_type": "markdown",
   "metadata": {},
   "source": [
    "We have added 2 new nodes as a \"replacement\" for the killed ones. Even though they have same name for docker, these are new for K8s"
   ]
  },
  {
   "cell_type": "code",
   "execution_count": 60,
   "metadata": {},
   "outputs": [
    {
     "name": "stdout",
     "output_type": "stream",
     "text": [
      "node \"99539420d0d2\" cordoned\r\n",
      "error: unable to drain node \"99539420d0d2\", aborting command...\r\n",
      "\r\n",
      "There are pending nodes to be drained:\r\n",
      " 99539420d0d2\r\n",
      "error: DaemonSet-managed pods (use --ignore-daemonsets to ignore): svclb-traefik-tlb5k\r\n"
     ]
    }
   ],
   "source": [
    "# drain and delete \"not ready\" nodes\n",
    "!kubectl drain 99539420d0d2"
   ]
  },
  {
   "cell_type": "code",
   "execution_count": 63,
   "metadata": {},
   "outputs": [
    {
     "name": "stdout",
     "output_type": "stream",
     "text": [
      "node \"99539420d0d2\" deleted\r\n"
     ]
    }
   ],
   "source": [
    "!kubectl delete node 99539420d0d2"
   ]
  },
  {
   "cell_type": "code",
   "execution_count": 64,
   "metadata": {},
   "outputs": [
    {
     "name": "stdout",
     "output_type": "stream",
     "text": [
      "node \"b7d984be7952\" deleted\r\n"
     ]
    }
   ],
   "source": [
    "!kubectl delete node b7d984be7952"
   ]
  },
  {
   "cell_type": "code",
   "execution_count": 65,
   "metadata": {},
   "outputs": [
    {
     "name": "stdout",
     "output_type": "stream",
     "text": [
      "NAME           STATUS    ROLES     AGE       VERSION         EXTERNAL-IP   OS-IMAGE   KERNEL-VERSION     CONTAINER-RUNTIME\r\n",
      "05c089864933   Ready     <none>    34m       v1.14.1-k3s.4   <none>        Unknown    4.9.125-linuxkit   containerd://1.2.5+unknown\r\n",
      "a0d0e78fb44c   Ready     <none>    2m        v1.14.1-k3s.4   <none>        Unknown    4.9.125-linuxkit   containerd://1.2.5+unknown\r\n",
      "cb1d24640ecb   Ready     <none>    2m        v1.14.1-k3s.4   <none>        Unknown    4.9.125-linuxkit   containerd://1.2.5+unknown\r\n"
     ]
    }
   ],
   "source": [
    "!kubectl get nodes --output=wide"
   ]
  },
  {
   "cell_type": "markdown",
   "metadata": {},
   "source": [
    "while we were adding nodes, K8s moved all pods to the single a single node. "
   ]
  },
  {
   "cell_type": "code",
   "execution_count": 69,
   "metadata": {},
   "outputs": [
    {
     "name": "stdout",
     "output_type": "stream",
     "text": [
      "deployment.extensions \"hello-world\" scaled\r\n"
     ]
    }
   ],
   "source": [
    "!kubectl scale deployment --replicas=10 \"hello-world\""
   ]
  },
  {
   "cell_type": "code",
   "execution_count": 72,
   "metadata": {},
   "outputs": [
    {
     "name": "stdout",
     "output_type": "stream",
     "text": [
      "NAME                          READY     STATUS    RESTARTS   AGE       IP           NODE\r\n",
      "hello-world-68ff65cf7-5tsrz   1/1       Running   0          5m        10.42.0.11   05c089864933\r\n",
      "hello-world-68ff65cf7-94kjs   1/1       Running   0          5m        10.42.0.9    05c089864933\r\n",
      "hello-world-68ff65cf7-9bzzh   1/1       Running   0          17m       10.42.0.6    05c089864933\r\n",
      "hello-world-68ff65cf7-b5b87   1/1       Running   0          5m        10.42.0.12   05c089864933\r\n",
      "hello-world-68ff65cf7-bf6zb   1/1       Running   0          5m        10.42.0.13   05c089864933\r\n",
      "hello-world-68ff65cf7-frtqq   1/1       Running   0          5m        10.42.0.7    05c089864933\r\n",
      "hello-world-68ff65cf7-g9qgn   1/1       Running   0          17m       10.42.0.4    05c089864933\r\n",
      "hello-world-68ff65cf7-lznlw   1/1       Running   0          5m        10.42.0.14   05c089864933\r\n",
      "hello-world-68ff65cf7-rdgwv   1/1       Running   0          17m       10.42.0.5    05c089864933\r\n",
      "hello-world-68ff65cf7-x84nr   1/1       Running   0          5m        10.42.0.10   05c089864933\r\n"
     ]
    }
   ],
   "source": [
    "!kubectl get pods --selector=\"run=load-balancer-example\" --output=wide"
   ]
  },
  {
   "cell_type": "markdown",
   "metadata": {},
   "source": [
    "Let's try to force K8 to redistribute pods across all available nodes"
   ]
  },
  {
   "cell_type": "code",
   "execution_count": 71,
   "metadata": {},
   "outputs": [
    {
     "name": "stdout",
     "output_type": "stream",
     "text": [
      "NAME          DESIRED   CURRENT   UP-TO-DATE   AVAILABLE   AGE\r\n",
      "hello-world   10        10        10           10          25m\r\n"
     ]
    }
   ],
   "source": [
    "!kubectl get deployments"
   ]
  },
  {
   "cell_type": "code",
   "execution_count": 73,
   "metadata": {},
   "outputs": [
    {
     "name": "stdout",
     "output_type": "stream",
     "text": [
      "deployment.extensions \"hello-world\" scaled\r\n"
     ]
    }
   ],
   "source": [
    "!kubectl scale deployment --replicas=9 \"hello-world\""
   ]
  },
  {
   "cell_type": "code",
   "execution_count": 74,
   "metadata": {},
   "outputs": [
    {
     "name": "stdout",
     "output_type": "stream",
     "text": [
      "deployment.extensions \"hello-world\" scaled\r\n"
     ]
    }
   ],
   "source": [
    "!kubectl scale deployment --replicas=10 \"hello-world\""
   ]
  },
  {
   "cell_type": "code",
   "execution_count": 75,
   "metadata": {},
   "outputs": [
    {
     "name": "stdout",
     "output_type": "stream",
     "text": [
      "NAME                          READY     STATUS              RESTARTS   AGE       IP           NODE\r\n",
      "hello-world-68ff65cf7-5tsrz   1/1       Running             0          6m        10.42.0.11   05c089864933\r\n",
      "hello-world-68ff65cf7-7cx62   0/1       ContainerCreating   0          7s        <none>       a0d0e78fb44c\r\n",
      "hello-world-68ff65cf7-94kjs   1/1       Running             0          6m        10.42.0.9    05c089864933\r\n",
      "hello-world-68ff65cf7-9bzzh   1/1       Running             0          17m       10.42.0.6    05c089864933\r\n",
      "hello-world-68ff65cf7-b5b87   1/1       Terminating         0          6m        10.42.0.12   05c089864933\r\n",
      "hello-world-68ff65cf7-bf6zb   1/1       Running             0          6m        10.42.0.13   05c089864933\r\n",
      "hello-world-68ff65cf7-frtqq   1/1       Running             0          6m        10.42.0.7    05c089864933\r\n",
      "hello-world-68ff65cf7-g9qgn   1/1       Running             0          17m       10.42.0.4    05c089864933\r\n",
      "hello-world-68ff65cf7-lznlw   1/1       Running             0          6m        10.42.0.14   05c089864933\r\n",
      "hello-world-68ff65cf7-rdgwv   1/1       Running             0          17m       10.42.0.5    05c089864933\r\n",
      "hello-world-68ff65cf7-x84nr   1/1       Running             0          6m        10.42.0.10   05c089864933\r\n"
     ]
    }
   ],
   "source": [
    "!kubectl get pods --selector=\"run=load-balancer-example\" --output=wide"
   ]
  },
  {
   "cell_type": "code",
   "execution_count": 77,
   "metadata": {},
   "outputs": [
    {
     "name": "stdout",
     "output_type": "stream",
     "text": [
      "NAME                          READY     STATUS    RESTARTS   AGE       IP           NODE\r\n",
      "hello-world-68ff65cf7-5tsrz   1/1       Running   0          16m       10.42.0.11   05c089864933\r\n",
      "hello-world-68ff65cf7-7cx62   1/1       Running   0          10m       10.42.3.3    a0d0e78fb44c\r\n",
      "hello-world-68ff65cf7-94kjs   1/1       Running   0          16m       10.42.0.9    05c089864933\r\n",
      "hello-world-68ff65cf7-9bzzh   1/1       Running   0          28m       10.42.0.6    05c089864933\r\n",
      "hello-world-68ff65cf7-bf6zb   1/1       Running   0          16m       10.42.0.13   05c089864933\r\n",
      "hello-world-68ff65cf7-frtqq   1/1       Running   0          16m       10.42.0.7    05c089864933\r\n",
      "hello-world-68ff65cf7-g9qgn   1/1       Running   0          28m       10.42.0.4    05c089864933\r\n",
      "hello-world-68ff65cf7-lznlw   1/1       Running   0          16m       10.42.0.14   05c089864933\r\n",
      "hello-world-68ff65cf7-rdgwv   1/1       Running   0          28m       10.42.0.5    05c089864933\r\n",
      "hello-world-68ff65cf7-x84nr   1/1       Running   0          16m       10.42.0.10   05c089864933\r\n"
     ]
    }
   ],
   "source": [
    "!kubectl get pods --selector=\"run=load-balancer-example\" --output=wide"
   ]
  },
  {
   "cell_type": "markdown",
   "metadata": {},
   "source": [
    "a trick with scale down/up worked"
   ]
  },
  {
   "cell_type": "code",
   "execution_count": 78,
   "metadata": {},
   "outputs": [
    {
     "name": "stdout",
     "output_type": "stream",
     "text": [
      "deployment.extensions \"hello-world\" scaled\r\n"
     ]
    }
   ],
   "source": [
    "!kubectl scale deployment --replicas=3 \"hello-world\""
   ]
  },
  {
   "cell_type": "code",
   "execution_count": 79,
   "metadata": {},
   "outputs": [
    {
     "name": "stdout",
     "output_type": "stream",
     "text": [
      "deployment.extensions \"hello-world\" scaled\r\n"
     ]
    }
   ],
   "source": [
    "!kubectl scale deployment --replicas=10 \"hello-world\""
   ]
  },
  {
   "cell_type": "code",
   "execution_count": 83,
   "metadata": {},
   "outputs": [
    {
     "name": "stdout",
     "output_type": "stream",
     "text": [
      "NAME                          READY     STATUS              RESTARTS   AGE       IP          NODE\r\n",
      "hello-world-68ff65cf7-47czf   0/1       ContainerCreating   0          37s       <none>      cb1d24640ecb\r\n",
      "hello-world-68ff65cf7-4zw9j   1/1       Running             0          37s       10.42.3.6   a0d0e78fb44c\r\n",
      "hello-world-68ff65cf7-6vj86   1/1       Running             0          37s       10.42.3.5   a0d0e78fb44c\r\n",
      "hello-world-68ff65cf7-9bzzh   1/1       Running             0          29m       10.42.0.6   05c089864933\r\n",
      "hello-world-68ff65cf7-g9qgn   1/1       Running             0          29m       10.42.0.4   05c089864933\r\n",
      "hello-world-68ff65cf7-jss5c   0/1       ContainerCreating   0          37s       <none>      cb1d24640ecb\r\n",
      "hello-world-68ff65cf7-l2ttq   0/1       ContainerCreating   0          37s       <none>      cb1d24640ecb\r\n",
      "hello-world-68ff65cf7-n6gpz   1/1       Running             0          37s       10.42.3.7   a0d0e78fb44c\r\n",
      "hello-world-68ff65cf7-rdgwv   1/1       Running             0          29m       10.42.0.5   05c089864933\r\n",
      "hello-world-68ff65cf7-thftf   1/1       Running             0          37s       10.42.3.4   a0d0e78fb44c\r\n"
     ]
    }
   ],
   "source": [
    "!kubectl get pods --selector=\"run=load-balancer-example\" --output=wide"
   ]
  },
  {
   "cell_type": "markdown",
   "metadata": {},
   "source": [
    "K8s should redistribute pods by itself depending on how busy they are, but trick above might work when some manual intervention is requried. \n",
    "\n",
    "For automatic control of this behaviour https://github.com/kubernetes-incubator/descheduler could be used and/or https://kubernetes.io/docs/tasks/run-application/horizontal-pod-autoscale/"
   ]
  },
  {
   "cell_type": "code",
   "execution_count": 84,
   "metadata": {},
   "outputs": [
    {
     "name": "stdout",
     "output_type": "stream",
     "text": [
      "deployment.extensions \"hello-world\" deleted\r\n"
     ]
    }
   ],
   "source": [
    "!kubectl delete deployment \"hello-world\""
   ]
  },
  {
   "cell_type": "code",
   "execution_count": null,
   "metadata": {},
   "outputs": [],
   "source": []
  },
  {
   "cell_type": "code",
   "execution_count": 89,
   "metadata": {},
   "outputs": [
    {
     "name": "stdout",
     "output_type": "stream",
     "text": [
      "NAME                          READY     STATUS        RESTARTS   AGE       IP          NODE\r\n",
      "hello-world-68ff65cf7-4zw9j   1/1       Terminating   0          1m        10.42.3.6   a0d0e78fb44c\r\n",
      "hello-world-68ff65cf7-6vj86   1/1       Terminating   0          1m        10.42.3.5   a0d0e78fb44c\r\n",
      "hello-world-68ff65cf7-9bzzh   1/1       Terminating   0          29m       10.42.0.6   05c089864933\r\n",
      "hello-world-68ff65cf7-g9qgn   1/1       Terminating   0          30m       10.42.0.4   05c089864933\r\n",
      "hello-world-68ff65cf7-n6gpz   1/1       Terminating   0          1m        10.42.3.7   a0d0e78fb44c\r\n",
      "hello-world-68ff65cf7-rdgwv   1/1       Terminating   0          29m       10.42.0.5   05c089864933\r\n",
      "hello-world-68ff65cf7-thftf   1/1       Terminating   0          1m        10.42.3.4   a0d0e78fb44c\r\n"
     ]
    }
   ],
   "source": [
    "!kubectl get pods --selector=\"run=load-balancer-example\" --output=wide"
   ]
  },
  {
   "cell_type": "code",
   "execution_count": null,
   "metadata": {},
   "outputs": [],
   "source": []
  }
 ],
 "metadata": {
  "kernelspec": {
   "display_name": "Python 3",
   "language": "python",
   "name": "python3"
  },
  "language_info": {
   "codemirror_mode": {
    "name": "ipython",
    "version": 3
   },
   "file_extension": ".py",
   "mimetype": "text/x-python",
   "name": "python",
   "nbconvert_exporter": "python",
   "pygments_lexer": "ipython3",
   "version": "3.7.1"
  }
 },
 "nbformat": 4,
 "nbformat_minor": 2
}

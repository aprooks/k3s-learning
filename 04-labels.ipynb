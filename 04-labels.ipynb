{
 "cells": [
  {
   "cell_type": "markdown",
   "metadata": {},
   "source": [
    "# Using labels for orchestration and automation\n",
    "\n",
    "1. Label nodes\n",
    "1. Deploy pods only to labeled nodes\n",
    "1. Query pods by labels "
   ]
  },
  {
   "cell_type": "code",
   "execution_count": 2,
   "metadata": {},
   "outputs": [
    {
     "name": "stdout",
     "output_type": "stream",
     "text": [
      "2019/06/23 18:28:55 Created cluster network with ID cbfc510280bd837824395acd953f02d0c298e60b2f0c0defe37e09932cafda39\n",
      "2019/06/23 18:28:55 Creating cluster [k3s-default]\n",
      "2019/06/23 18:28:55 Creating server using docker.io/rancher/k3s:v0.5.0...\n",
      "2019/06/23 18:28:56 Booting 3 workers for cluster k3s-default\n",
      "2019/06/23 18:28:56 Created worker with ID c681c5bba823cb616e96e85b9c1ae652248ffb7ef583da8b538b582f8260363c\n",
      "2019/06/23 18:28:57 Created worker with ID 41a32efb9b1eac6e2e09e174bed4617e5ee01eaffeb51d72d32284a79c366132\n",
      "2019/06/23 18:28:58 Created worker with ID 90577eff4ea5a003caf8c7d2f490465fdc5fbb472ba99f81a77b25dc7f62c772\n",
      "2019/06/23 18:28:58 SUCCESS: created cluster [k3s-default]\n",
      "2019/06/23 18:28:58 You can now use the cluster with:\n",
      "\n",
      "export KUBECONFIG=\"$(k3d get-kubeconfig --name='k3s-default')\"\n",
      "kubectl cluster-info\n"
     ]
    }
   ],
   "source": [
    "!k3d create --publish 80:80 --workers 3"
   ]
  },
  {
   "cell_type": "code",
   "execution_count": 4,
   "metadata": {},
   "outputs": [],
   "source": [
    "!cp \"$(k3d get-kubeconfig --name='k3s-default')\" ~/.kube/config"
   ]
  },
  {
   "cell_type": "markdown",
   "metadata": {},
   "source": [
    "Test ingress like this example\n",
    " https://github.com/rancher/k3d/issues/11#issuecomment-492822086"
   ]
  },
  {
   "cell_type": "code",
   "execution_count": 5,
   "metadata": {
    "scrolled": true
   },
   "outputs": [
    {
     "name": "stdout",
     "output_type": "stream",
     "text": [
      "deployment.apps/whoami created\n"
     ]
    }
   ],
   "source": [
    "%%bash\n",
    "cat <<EOF | kubectl create -f  -\n",
    "apiVersion: apps/v1\n",
    "kind: Deployment\n",
    "metadata:\n",
    "  name: whoami\n",
    "  labels:\n",
    "    app: whoami\n",
    "spec:\n",
    "  replicas: 4\n",
    "  selector:\n",
    "    matchLabels:\n",
    "      app: whoami\n",
    "  template:\n",
    "    metadata:\n",
    "      labels:\n",
    "        app: whoami\n",
    "    spec:\n",
    "      containers:\n",
    "      - name: whoami\n",
    "        image: containous/whoami:latest\n",
    "        ports:\n",
    "        - containerPort: 80\n",
    "EOF"
   ]
  },
  {
   "cell_type": "markdown",
   "metadata": {},
   "source": [
    "query deployments unttill available becomes \"2\""
   ]
  },
  {
   "cell_type": "code",
   "execution_count": 7,
   "metadata": {
    "scrolled": true
   },
   "outputs": [
    {
     "name": "stdout",
     "output_type": "stream",
     "text": [
      "NAME     READY   UP-TO-DATE   AVAILABLE   AGE\r\n",
      "whoami   4/4     4            4           5s\r\n"
     ]
    }
   ],
   "source": [
    "!kubectl get deployments"
   ]
  },
  {
   "cell_type": "code",
   "execution_count": 12,
   "metadata": {},
   "outputs": [
    {
     "name": "stdout",
     "output_type": "stream",
     "text": [
      "NAME                      READY   STATUS    RESTARTS   AGE    IP          NODE                       NOMINATED NODE   READINESS GATES\r\n",
      "whoami-6d996cf96f-44cxv   1/1     Running   0          107s   10.42.0.4   k3d-k3s-default-server     <none>           <none>\r\n",
      "whoami-6d996cf96f-4njp2   1/1     Running   0          107s   10.42.3.3   k3d-k3s-default-worker-2   <none>           <none>\r\n",
      "whoami-6d996cf96f-hq6qx   1/1     Running   0          107s   10.42.1.4   k3d-k3s-default-worker-0   <none>           <none>\r\n",
      "whoami-6d996cf96f-xrdbj   1/1     Running   0          107s   10.42.2.4   k3d-k3s-default-worker-1   <none>           <none>\r\n"
     ]
    }
   ],
   "source": [
    "!kubectl get pods -o wide"
   ]
  },
  {
   "cell_type": "code",
   "execution_count": 19,
   "metadata": {},
   "outputs": [
    {
     "name": "stdout",
     "output_type": "stream",
     "text": [
      "deployment.apps/whoami-restricted created\n"
     ]
    }
   ],
   "source": [
    "%%bash\n",
    "cat <<EOF | kubectl apply -f  -\n",
    "apiVersion: apps/v1\n",
    "kind: Deployment\n",
    "metadata:\n",
    "  name: whoami-restricted\n",
    "  labels:\n",
    "    app: whoami-restricted\n",
    "spec:\n",
    "  replicas: 2\n",
    "  selector:\n",
    "    matchLabels:\n",
    "      app: whoami-restricted\n",
    "  template:\n",
    "    metadata:\n",
    "      labels:\n",
    "        app: whoami-restricted\n",
    "\n",
    "    spec:\n",
    "      containers:\n",
    "      - name: whoami\n",
    "        image: containous/whoami:latest\n",
    "        ports:\n",
    "        - containerPort: 80\n",
    "      nodeSelector:\n",
    "          placement: other\n",
    "EOF"
   ]
  },
  {
   "cell_type": "code",
   "execution_count": 25,
   "metadata": {},
   "outputs": [
    {
     "name": "stdout",
     "output_type": "stream",
     "text": [
      "NAME                                 READY   STATUS    RESTARTS   AGE   IP          NODE                       NOMINATED NODE   READINESS GATES\r\n",
      "whoami-6d996cf96f-44cxv              1/1     Running   0          10m   10.42.0.4   k3d-k3s-default-server     <none>           <none>\r\n",
      "whoami-6d996cf96f-4njp2              1/1     Running   0          10m   10.42.3.3   k3d-k3s-default-worker-2   <none>           <none>\r\n",
      "whoami-6d996cf96f-hq6qx              1/1     Running   0          10m   10.42.1.4   k3d-k3s-default-worker-0   <none>           <none>\r\n",
      "whoami-6d996cf96f-xrdbj              1/1     Running   0          10m   10.42.2.4   k3d-k3s-default-worker-1   <none>           <none>\r\n",
      "whoami-restricted-84b895f667-tgnhl   0/1     Pending   0          2m    <none>      <none>                     <none>           <none>\r\n",
      "whoami-restricted-84b895f667-xn2m8   0/1     Pending   0          2m    <none>      <none>                     <none>           <none>\r\n"
     ]
    }
   ],
   "source": [
    "!kubectl get pods -o wide"
   ]
  },
  {
   "cell_type": "code",
   "execution_count": 24,
   "metadata": {},
   "outputs": [
    {
     "name": "stdout",
     "output_type": "stream",
     "text": [
      "Name:                   whoami-restricted\r\n",
      "Namespace:              default\r\n",
      "CreationTimestamp:      Sun, 23 Jun 2019 18:40:37 +0200\r\n",
      "Labels:                 app=whoami-restricted\r\n",
      "Annotations:            deployment.kubernetes.io/revision: 1\r\n",
      "                        kubectl.kubernetes.io/last-applied-configuration:\r\n",
      "                          {\"apiVersion\":\"apps/v1\",\"kind\":\"Deployment\",\"metadata\":{\"annotations\":{},\"labels\":{\"app\":\"whoami-restricted\"},\"name\":\"whoami-restricted\",\"...\r\n",
      "Selector:               app=whoami-restricted\r\n",
      "Replicas:               2 desired | 2 updated | 2 total | 0 available | 2 unavailable\r\n",
      "StrategyType:           RollingUpdate\r\n",
      "MinReadySeconds:        0\r\n",
      "RollingUpdateStrategy:  25% max unavailable, 25% max surge\r\n",
      "Pod Template:\r\n",
      "  Labels:  app=whoami-restricted\r\n",
      "  Containers:\r\n",
      "   whoami:\r\n",
      "    Image:        containous/whoami:latest\r\n",
      "    Port:         80/TCP\r\n",
      "    Host Port:    0/TCP\r\n",
      "    Environment:  <none>\r\n",
      "    Mounts:       <none>\r\n",
      "  Volumes:        <none>\r\n",
      "Conditions:\r\n",
      "  Type           Status  Reason\r\n",
      "  ----           ------  ------\r\n",
      "  Available      False   MinimumReplicasUnavailable\r\n",
      "  Progressing    True    ReplicaSetUpdated\r\n",
      "OldReplicaSets:  <none>\r\n",
      "NewReplicaSet:   whoami-restricted-84b895f667 (2/2 replicas created)\r\n",
      "Events:\r\n",
      "  Type    Reason             Age   From                   Message\r\n",
      "  ----    ------             ----  ----                   -------\r\n",
      "  Normal  ScalingReplicaSet  42s   deployment-controller  Scaled up replica set whoami-restricted-84b895f667 to 2\r\n"
     ]
    }
   ],
   "source": [
    "!kubectl describe deployments whoami-restricted"
   ]
  },
  {
   "cell_type": "markdown",
   "metadata": {},
   "source": [
    "We are stuck with deployment in a \"ScalingReplicaSet\". This is because there is no node marked as \"placement: other\":"
   ]
  },
  {
   "cell_type": "code",
   "execution_count": 27,
   "metadata": {},
   "outputs": [
    {
     "name": "stdout",
     "output_type": "stream",
     "text": [
      "No resources found.\r\n"
     ]
    }
   ],
   "source": [
    "!kubectl get nodes -l placement=other"
   ]
  },
  {
   "cell_type": "code",
   "execution_count": 28,
   "metadata": {},
   "outputs": [
    {
     "name": "stdout",
     "output_type": "stream",
     "text": [
      "node/k3d-k3s-default-worker-2 labeled\r\n"
     ]
    }
   ],
   "source": [
    "!kubectl label nodes k3d-k3s-default-worker-2 placement=other"
   ]
  },
  {
   "cell_type": "code",
   "execution_count": 29,
   "metadata": {},
   "outputs": [
    {
     "name": "stdout",
     "output_type": "stream",
     "text": [
      "NAME                                 READY   STATUS    RESTARTS   AGE     IP          NODE                       NOMINATED NODE   READINESS GATES\r\n",
      "whoami-6d996cf96f-44cxv              1/1     Running   0          12m     10.42.0.4   k3d-k3s-default-server     <none>           <none>\r\n",
      "whoami-6d996cf96f-4njp2              1/1     Running   0          12m     10.42.3.3   k3d-k3s-default-worker-2   <none>           <none>\r\n",
      "whoami-6d996cf96f-hq6qx              1/1     Running   0          12m     10.42.1.4   k3d-k3s-default-worker-0   <none>           <none>\r\n",
      "whoami-6d996cf96f-xrdbj              1/1     Running   0          12m     10.42.2.4   k3d-k3s-default-worker-1   <none>           <none>\r\n",
      "whoami-restricted-84b895f667-tgnhl   1/1     Running   0          4m36s   10.42.3.5   k3d-k3s-default-worker-2   <none>           <none>\r\n",
      "whoami-restricted-84b895f667-xn2m8   1/1     Running   0          4m36s   10.42.3.4   k3d-k3s-default-worker-2   <none>           <none>\r\n"
     ]
    }
   ],
   "source": [
    "!kubectl get pods -o wide"
   ]
  },
  {
   "cell_type": "markdown",
   "metadata": {},
   "source": [
    "Once node was labeled, K8s scheduler assinged both pods to this node"
   ]
  },
  {
   "cell_type": "code",
   "execution_count": 30,
   "metadata": {},
   "outputs": [
    {
     "name": "stdout",
     "output_type": "stream",
     "text": [
      "NAME                       STATUS   ROLES    AGE   VERSION\r\n",
      "k3d-k3s-default-worker-2   Ready    <none>   16m   v1.14.1-k3s.4\r\n"
     ]
    }
   ],
   "source": [
    "!kubectl get nodes -l placement=other"
   ]
  },
  {
   "cell_type": "code",
   "execution_count": 32,
   "metadata": {},
   "outputs": [
    {
     "name": "stdout",
     "output_type": "stream",
     "text": [
      "No resources found.\r\n"
     ]
    }
   ],
   "source": [
    "# node label does not propagate to pod\n",
    "!kubectl get pods -l placement=other"
   ]
  },
  {
   "cell_type": "code",
   "execution_count": 37,
   "metadata": {},
   "outputs": [
    {
     "name": "stdout",
     "output_type": "stream",
     "text": [
      "NAME                                 READY   STATUS    RESTARTS   AGE   LABELS\r\n",
      "whoami-6d996cf96f-44cxv              1/1     Running   0          28m   app=whoami,pod-template-hash=6d996cf96f\r\n",
      "whoami-6d996cf96f-4njp2              1/1     Running   0          28m   app=whoami,pod-template-hash=6d996cf96f\r\n",
      "whoami-6d996cf96f-hq6qx              1/1     Running   0          28m   app=whoami,pod-template-hash=6d996cf96f\r\n",
      "whoami-6d996cf96f-xrdbj              1/1     Running   0          28m   app=whoami,pod-template-hash=6d996cf96f\r\n",
      "whoami-restricted-84b895f667-tgnhl   1/1     Running   0          20m   app=whoami-restricted,pod-template-hash=84b895f667\r\n",
      "whoami-restricted-84b895f667-xn2m8   1/1     Running   0          20m   app=whoami-restricted,pod-template-hash=84b895f667\r\n"
     ]
    }
   ],
   "source": [
    "!kubectl get pods --show-labels=true"
   ]
  },
  {
   "cell_type": "code",
   "execution_count": null,
   "metadata": {},
   "outputs": [],
   "source": []
  },
  {
   "cell_type": "code",
   "execution_count": null,
   "metadata": {},
   "outputs": [],
   "source": []
  },
  {
   "cell_type": "code",
   "execution_count": null,
   "metadata": {},
   "outputs": [],
   "source": []
  },
  {
   "cell_type": "code",
   "execution_count": null,
   "metadata": {},
   "outputs": [],
   "source": []
  },
  {
   "cell_type": "code",
   "execution_count": null,
   "metadata": {},
   "outputs": [],
   "source": []
  },
  {
   "cell_type": "code",
   "execution_count": 99,
   "metadata": {},
   "outputs": [
    {
     "name": "stdout",
     "output_type": "stream",
     "text": [
      "2019/06/22 18:17:48 Removing cluster [k3s-default]\n",
      "2019/06/22 18:17:48 ...Removing 2 workers\n",
      "2019/06/22 18:17:50 ...Removing server\n",
      "2019/06/22 18:17:52 SUCCESS: removed cluster [k3s-default]\n"
     ]
    }
   ],
   "source": [
    "# delete cluster\n",
    "!k3d d "
   ]
  },
  {
   "cell_type": "code",
   "execution_count": null,
   "metadata": {},
   "outputs": [],
   "source": []
  }
 ],
 "metadata": {
  "kernelspec": {
   "display_name": "Python 3",
   "language": "python",
   "name": "python3"
  },
  "language_info": {
   "codemirror_mode": {
    "name": "ipython",
    "version": 3
   },
   "file_extension": ".py",
   "mimetype": "text/x-python",
   "name": "python",
   "nbconvert_exporter": "python",
   "pygments_lexer": "ipython3",
   "version": "3.7.1"
  }
 },
 "nbformat": 4,
 "nbformat_minor": 2
}

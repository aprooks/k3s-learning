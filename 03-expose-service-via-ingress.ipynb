{
 "cells": [
  {
   "cell_type": "markdown",
   "metadata": {},
   "source": [
    "Install k3d tooling instead of docker-compose\n",
    "\n",
    "``` bash\n",
    "curl -s https://raw.githubusercontent.com/rancher/k3d/master/install.sh | bash\n",
    "```"
   ]
  },
  {
   "cell_type": "code",
   "execution_count": 1,
   "metadata": {},
   "outputs": [
    {
     "name": "stdout",
     "output_type": "stream",
     "text": [
      "2019/06/20 12:33:33 Created cluster network with ID fb099b10e86538849ba250bcf64e1acced706b2ce2936f8a3ee88de8f10df699\n",
      "2019/06/20 12:33:33 Creating cluster [k3s-default]\n",
      "2019/06/20 12:33:33 Creating server using docker.io/rancher/k3s:v0.5.0...\n",
      "2019/06/20 12:33:34 Booting 2 workers for cluster k3s-default\n",
      "2019/06/20 12:33:34 Created worker with ID e1dc2b6703bcb8a5547e66b18b65414fb53a1e640c62b70be0436d3f513efbb9\n",
      "2019/06/20 12:33:35 Created worker with ID 694646a0bdce24d45c273ddaa0e7fed5e3016c0f7323e4b4bf1e632cd3c90d2e\n",
      "2019/06/20 12:33:35 SUCCESS: created cluster [k3s-default]\n",
      "2019/06/20 12:33:35 You can now use the cluster with:\n",
      "\n",
      "export KUBECONFIG=\"$(k3d get-kubeconfig --name='k3s-default')\"\n",
      "kubectl cluster-info\n"
     ]
    }
   ],
   "source": [
    "!k3d create --publish 80:80 --workers 2"
   ]
  },
  {
   "cell_type": "code",
   "execution_count": 2,
   "metadata": {},
   "outputs": [],
   "source": [
    "!cp \"$(k3d get-kubeconfig --name='k3s-default')\" ~/.kube/config"
   ]
  },
  {
   "cell_type": "markdown",
   "metadata": {},
   "source": [
    "Test ingress like this example\n",
    " https://github.com/rancher/k3d/issues/11#issuecomment-492822086"
   ]
  },
  {
   "cell_type": "code",
   "execution_count": 3,
   "metadata": {},
   "outputs": [
    {
     "name": "stdout",
     "output_type": "stream",
     "text": [
      "deployment.apps/nginx-demo-dom created\n",
      "service/nginx-demo-dom created\n",
      "ingress.extensions/nginx-demo-dom created\n"
     ]
    }
   ],
   "source": [
    "%%bash\n",
    "cat <<EOF | kubectl create -f -\n",
    "apiVersion: apps/v1\n",
    "kind: Deployment\n",
    "metadata:\n",
    "  name: nginx-demo-dom\n",
    "  labels:\n",
    "    app: nginx-demo-dom\n",
    "spec:\n",
    "  replicas: 2\n",
    "  selector:\n",
    "    matchLabels:\n",
    "      app: nginx-demo-dom\n",
    "  template:\n",
    "    metadata:\n",
    "      labels:\n",
    "        app: nginx-demo-dom\n",
    "    spec:\n",
    "      containers:\n",
    "      - name: nginx-demo-dom\n",
    "        image: nginx:latest\n",
    "        ports:\n",
    "        - containerPort: 80\n",
    "---\n",
    "apiVersion: v1\n",
    "kind: Service\n",
    "metadata:\n",
    "  name: nginx-demo-dom\n",
    "  labels:\n",
    "    app: nginx-demo-dom\n",
    "spec:\n",
    "  ports:\n",
    "    - port: 8081\n",
    "      targetPort: 80\n",
    "      name: http\n",
    "  selector:\n",
    "    app: nginx-demo-dom\n",
    "---\n",
    "apiVersion: extensions/v1beta1\n",
    "kind: Ingress\n",
    "metadata:\n",
    "  name: nginx-demo-dom\n",
    "  annotations:\n",
    "    ingress.kubernetes.io/ssl-redirect: \"false\"\n",
    "spec:\n",
    "  rules:\n",
    "  - host: k3d-ingress-demo.com\n",
    "    http:\n",
    "      paths:\n",
    "      - backend:\n",
    "          serviceName: nginx-demo-dom\n",
    "          servicePort: 8081\n",
    "EOF"
   ]
  },
  {
   "cell_type": "code",
   "execution_count": 10,
   "metadata": {
    "scrolled": true
   },
   "outputs": [
    {
     "name": "stdout",
     "output_type": "stream",
     "text": [
      "NAME             READY   UP-TO-DATE   AVAILABLE   AGE\r\n",
      "nginx-demo-dom   2/2     2            2           39s\r\n"
     ]
    }
   ],
   "source": [
    "!kubectl get deployments"
   ]
  },
  {
   "cell_type": "markdown",
   "metadata": {},
   "source": [
    "wait untill available becomes at least 1"
   ]
  },
  {
   "cell_type": "code",
   "execution_count": 11,
   "metadata": {},
   "outputs": [
    {
     "name": "stdout",
     "output_type": "stream",
     "text": [
      "NAME             TYPE        CLUSTER-IP    EXTERNAL-IP   PORT(S)    AGE\r\n",
      "kubernetes       ClusterIP   10.43.0.1     <none>        443/TCP    113s\r\n",
      "nginx-demo-dom   ClusterIP   10.43.139.7   <none>        8081/TCP   40s\r\n"
     ]
    }
   ],
   "source": [
    "!kubectl get svc"
   ]
  },
  {
   "cell_type": "code",
   "execution_count": 12,
   "metadata": {},
   "outputs": [
    {
     "name": "stdout",
     "output_type": "stream",
     "text": [
      "<!DOCTYPE html>\r\n",
      "<html>\r\n",
      "<head>\r\n",
      "<title>Welcome to nginx!</title>\r\n",
      "<style>\r\n",
      "    body {\r\n",
      "        width: 35em;\r\n",
      "        margin: 0 auto;\r\n",
      "        font-family: Tahoma, Verdana, Arial, sans-serif;\r\n",
      "    }\r\n",
      "</style>\r\n",
      "</head>\r\n",
      "<body>\r\n",
      "<h1>Welcome to nginx!</h1>\r\n",
      "<p>If you see this page, the nginx web server is successfully installed and\r\n",
      "working. Further configuration is required.</p>\r\n",
      "\r\n",
      "<p>For online documentation and support please refer to\r\n",
      "<a href=\"http://nginx.org/\">nginx.org</a>.<br/>\r\n",
      "Commercial support is available at\r\n",
      "<a href=\"http://nginx.com/\">nginx.com</a>.</p>\r\n",
      "\r\n",
      "<p><em>Thank you for using nginx.</em></p>\r\n",
      "</body>\r\n",
      "</html>\r\n"
     ]
    }
   ],
   "source": [
    "!curl -H \"Host: k3d-ingress-demo.com\" http://localhost"
   ]
  },
  {
   "cell_type": "code",
   "execution_count": 13,
   "metadata": {},
   "outputs": [
    {
     "name": "stdout",
     "output_type": "stream",
     "text": [
      "2019/06/20 12:35:47 Removing cluster [k3s-default]\n",
      "2019/06/20 12:35:47 ...Removing 2 workers\n",
      "2019/06/20 12:35:49 ...Removing server\n",
      "2019/06/20 12:35:51 SUCCESS: removed cluster [k3s-default]\n"
     ]
    }
   ],
   "source": [
    "# delete cluster\n",
    "!k3d d "
   ]
  },
  {
   "cell_type": "code",
   "execution_count": null,
   "metadata": {},
   "outputs": [],
   "source": []
  }
 ],
 "metadata": {
  "kernelspec": {
   "display_name": "Python 3",
   "language": "python",
   "name": "python3"
  },
  "language_info": {
   "codemirror_mode": {
    "name": "ipython",
    "version": 3
   },
   "file_extension": ".py",
   "mimetype": "text/x-python",
   "name": "python",
   "nbconvert_exporter": "python",
   "pygments_lexer": "ipython3",
   "version": "3.7.1"
  }
 },
 "nbformat": 4,
 "nbformat_minor": 2
}

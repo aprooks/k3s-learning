{
 "cells": [
  {
   "cell_type": "markdown",
   "metadata": {},
   "source": [
    "# Exposing services via ingress\n",
    "\n",
    "1. Use yaml configs instead of cli commands\n",
    "1. Create demo nginx setup\n",
    "1. Create new service\n",
    "1. Patch ingress config to expose new service via load balancer"
   ]
  },
  {
   "cell_type": "code",
   "execution_count": 61,
   "metadata": {},
   "outputs": [
    {
     "name": "stdout",
     "output_type": "stream",
     "text": [
      "2019/06/22 17:58:42 Created cluster network with ID e90e14236dd1c8a278c64d98f5d7504d59936e8bfe5e8a0c782e1afd366261cc\n",
      "2019/06/22 17:58:42 Creating cluster [k3s-default]\n",
      "2019/06/22 17:58:42 Creating server using docker.io/rancher/k3s:v0.5.0...\n",
      "2019/06/22 17:58:43 Booting 2 workers for cluster k3s-default\n",
      "2019/06/22 17:58:43 Created worker with ID 8a29998e2d86fd1918a0b10355e38a6b6a8827a39bd107c978ae64251751f8ab\n",
      "2019/06/22 17:58:44 Created worker with ID 8a01066b7a5c41dc3e01b2fb215bc6d305f7b7ed95d6d329537b2d3ef6deb1db\n",
      "2019/06/22 17:58:44 SUCCESS: created cluster [k3s-default]\n",
      "2019/06/22 17:58:44 You can now use the cluster with:\n",
      "\n",
      "export KUBECONFIG=\"$(k3d get-kubeconfig --name='k3s-default')\"\n",
      "kubectl cluster-info\n"
     ]
    }
   ],
   "source": [
    "!k3d create --publish 80:80 --workers 2"
   ]
  },
  {
   "cell_type": "code",
   "execution_count": 63,
   "metadata": {},
   "outputs": [],
   "source": [
    "!cp \"$(k3d get-kubeconfig --name='k3s-default')\" ~/.kube/config"
   ]
  },
  {
   "cell_type": "markdown",
   "metadata": {},
   "source": [
    "Test ingress like this example\n",
    " https://github.com/rancher/k3d/issues/11#issuecomment-492822086"
   ]
  },
  {
   "cell_type": "code",
   "execution_count": 64,
   "metadata": {
    "scrolled": true
   },
   "outputs": [
    {
     "name": "stdout",
     "output_type": "stream",
     "text": [
      "deployment.apps/nginx-demo-dom created\n",
      "service/nginx-demo-dom created\n",
      "ingress.extensions/nginx-demo-dom created\n"
     ]
    }
   ],
   "source": [
    "%%bash\n",
    "cat <<EOF | kubectl create -f -\n",
    "apiVersion: apps/v1\n",
    "kind: Deployment\n",
    "metadata:\n",
    "  name: nginx-demo-dom\n",
    "  labels:\n",
    "    app: nginx-demo-dom\n",
    "spec:\n",
    "  replicas: 2\n",
    "  selector:\n",
    "    matchLabels:\n",
    "      app: nginx-demo-dom\n",
    "  template:\n",
    "    metadata:\n",
    "      labels:\n",
    "        app: nginx-demo-dom\n",
    "    spec:\n",
    "      containers:\n",
    "      - name: nginx-demo-dom\n",
    "        image: nginx:latest\n",
    "        ports:\n",
    "        - containerPort: 80\n",
    "---\n",
    "apiVersion: v1\n",
    "kind: Service\n",
    "metadata:\n",
    "  name: nginx-demo-dom\n",
    "  labels:\n",
    "    app: nginx-demo-dom\n",
    "spec:\n",
    "  ports:\n",
    "    - port: 8081\n",
    "      targetPort: 80\n",
    "      name: http\n",
    "  selector:\n",
    "    app: nginx-demo-dom\n",
    "---\n",
    "apiVersion: extensions/v1beta1\n",
    "kind: Ingress\n",
    "metadata:\n",
    "  name: nginx-demo-dom\n",
    "  annotations:\n",
    "    ingress.kubernetes.io/ssl-redirect: \"false\"\n",
    "spec:\n",
    "  rules:\n",
    "  - host: k3d-ingress-demo.com\n",
    "    http:\n",
    "      paths:\n",
    "      - backend:\n",
    "          serviceName: nginx-demo-dom\n",
    "          servicePort: 8081\n",
    "EOF"
   ]
  },
  {
   "cell_type": "markdown",
   "metadata": {},
   "source": [
    "query deployments unttill available becomes \"2\""
   ]
  },
  {
   "cell_type": "code",
   "execution_count": 67,
   "metadata": {
    "scrolled": true
   },
   "outputs": [
    {
     "name": "stdout",
     "output_type": "stream",
     "text": [
      "NAME             READY   UP-TO-DATE   AVAILABLE   AGE\r\n",
      "nginx-demo-dom   2/2     2            2           36s\r\n"
     ]
    }
   ],
   "source": [
    "!kubectl get deployments"
   ]
  },
  {
   "cell_type": "code",
   "execution_count": 68,
   "metadata": {},
   "outputs": [
    {
     "name": "stdout",
     "output_type": "stream",
     "text": [
      "NAME             TYPE        CLUSTER-IP    EXTERNAL-IP   PORT(S)    AGE\r\n",
      "kubernetes       ClusterIP   10.43.0.1     <none>        443/TCP    2m12s\r\n",
      "nginx-demo-dom   ClusterIP   10.43.47.13   <none>        8081/TCP   39s\r\n"
     ]
    }
   ],
   "source": [
    "!kubectl get svc"
   ]
  },
  {
   "cell_type": "code",
   "execution_count": 73,
   "metadata": {},
   "outputs": [],
   "source": [
    "## make sure it works by sending request to our localhost:80 and specifying which host we are targeting. "
   ]
  },
  {
   "cell_type": "code",
   "execution_count": 74,
   "metadata": {},
   "outputs": [
    {
     "name": "stdout",
     "output_type": "stream",
     "text": [
      "<!DOCTYPE html>\r\n",
      "<html>\r\n",
      "<head>\r\n",
      "<title>Welcome to nginx!</title>\r\n",
      "<style>\r\n",
      "    body {\r\n",
      "        width: 35em;\r\n",
      "        margin: 0 auto;\r\n",
      "        font-family: Tahoma, Verdana, Arial, sans-serif;\r\n",
      "    }\r\n",
      "</style>\r\n",
      "</head>\r\n",
      "<body>\r\n",
      "<h1>Welcome to nginx!</h1>\r\n",
      "<p>If you see this page, the nginx web server is successfully installed and\r\n",
      "working. Further configuration is required.</p>\r\n",
      "\r\n",
      "<p>For online documentation and support please refer to\r\n",
      "<a href=\"http://nginx.org/\">nginx.org</a>.<br/>\r\n",
      "Commercial support is available at\r\n",
      "<a href=\"http://nginx.com/\">nginx.com</a>.</p>\r\n",
      "\r\n",
      "<p><em>Thank you for using nginx.</em></p>\r\n",
      "</body>\r\n",
      "</html>\r\n"
     ]
    }
   ],
   "source": [
    "!curl -H \"Host: k3d-ingress-demo.com\" http://localhost"
   ]
  },
  {
   "cell_type": "markdown",
   "metadata": {},
   "source": [
    "## create a new service based on the `whoami`container"
   ]
  },
  {
   "cell_type": "code",
   "execution_count": 75,
   "metadata": {},
   "outputs": [
    {
     "name": "stdout",
     "output_type": "stream",
     "text": [
      "deployment.apps/whoami created\n",
      "service/whoami created\n"
     ]
    }
   ],
   "source": [
    "%%bash\n",
    "cat <<EOF | kubectl create -f  -\n",
    "apiVersion: apps/v1\n",
    "kind: Deployment\n",
    "metadata:\n",
    "  name: whoami\n",
    "  labels:\n",
    "    app: whoami\n",
    "spec:\n",
    "  replicas: 4\n",
    "  selector:\n",
    "    matchLabels:\n",
    "      app: whoami\n",
    "  template:\n",
    "    metadata:\n",
    "      labels:\n",
    "        app: whoami\n",
    "    spec:\n",
    "      containers:\n",
    "      - name: whoami\n",
    "        image: containous/whoami:latest\n",
    "        ports:\n",
    "        - containerPort: 80\n",
    "---\n",
    "apiVersion: v1\n",
    "kind: Service\n",
    "metadata:\n",
    "  name: whoami\n",
    "  labels:\n",
    "    app: whoami\n",
    "spec:\n",
    "  ports:\n",
    "    - port: 8081\n",
    "      targetPort: 80\n",
    "      name: http\n",
    "  selector:\n",
    "    app: whoami\n",
    "EOF"
   ]
  },
  {
   "cell_type": "code",
   "execution_count": 77,
   "metadata": {},
   "outputs": [
    {
     "name": "stdout",
     "output_type": "stream",
     "text": [
      "NAME             READY   UP-TO-DATE   AVAILABLE   AGE\r\n",
      "nginx-demo-dom   2/2     2            2           3m45s\r\n",
      "whoami           4/4     4            4           7s\r\n"
     ]
    }
   ],
   "source": [
    "!kubectl get deployments"
   ]
  },
  {
   "cell_type": "code",
   "execution_count": 78,
   "metadata": {},
   "outputs": [],
   "source": [
    "## now we need to update ingress config:"
   ]
  },
  {
   "cell_type": "code",
   "execution_count": 79,
   "metadata": {},
   "outputs": [
    {
     "name": "stdout",
     "output_type": "stream",
     "text": [
      "ingress.extensions/nginx-demo-dom replaced\n"
     ]
    }
   ],
   "source": [
    "%%bash\n",
    "cat <<EOF | kubectl replace -f -\n",
    "apiVersion: extensions/v1beta1\n",
    "kind: Ingress\n",
    "metadata:\n",
    "  name: nginx-demo-dom\n",
    "  annotations:\n",
    "    ingress.kubernetes.io/ssl-redirect: \"false\"\n",
    "spec:\n",
    "  rules:\n",
    "  - host: k3d-ingress-demo.com\n",
    "    http:\n",
    "      paths:\n",
    "      - backend:\n",
    "          serviceName: nginx-demo-dom\n",
    "          servicePort: 8081\n",
    "  - host: whoami-demo.com\n",
    "    http:\n",
    "      paths:\n",
    "      - backend:\n",
    "          serviceName: whoami\n",
    "          servicePort: 8081 \n",
    "EOF"
   ]
  },
  {
   "cell_type": "code",
   "execution_count": 80,
   "metadata": {},
   "outputs": [
    {
     "name": "stdout",
     "output_type": "stream",
     "text": [
      "Name:             nginx-demo-dom\r\n",
      "Namespace:        default\r\n",
      "Address:          \r\n",
      "Default backend:  default-http-backend:80 (<none>)\r\n",
      "Rules:\r\n",
      "  Host                  Path  Backends\r\n",
      "  ----                  ----  --------\r\n",
      "  k3d-ingress-demo.com  \r\n",
      "                           nginx-demo-dom:8081 (10.42.0.4:80,10.42.2.4:80)\r\n",
      "  whoami-demo.com       \r\n",
      "                           whoami:8081 (10.42.0.5:80,10.42.1.4:80,10.42.2.5:80 + 1 more...)\r\n",
      "Annotations:\r\n",
      "  ingress.kubernetes.io/ssl-redirect:  false\r\n",
      "Events:                                <none>\r\n"
     ]
    }
   ],
   "source": [
    "!kubectl describe ingress nginx-demo-dom"
   ]
  },
  {
   "cell_type": "markdown",
   "metadata": {},
   "source": [
    "Let's do some requests. There are 4 pods and nginx does round-robing balancing"
   ]
  },
  {
   "cell_type": "code",
   "execution_count": 86,
   "metadata": {},
   "outputs": [
    {
     "name": "stdout",
     "output_type": "stream",
     "text": [
      "Hostname: whoami-6d996cf96f-88fs2\r\n",
      "IP: 127.0.0.1\r\n",
      "IP: ::1\r\n",
      "IP: 10.42.1.4\r\n",
      "IP: fe80::649e:f8ff:fe24:6c57\r\n",
      "GET / HTTP/1.1\r",
      "\r\n",
      "Host: whoami-demo.com\r",
      "\r\n",
      "User-Agent: curl/7.54.0\r",
      "\r\n",
      "Accept: */*\r",
      "\r\n",
      "Accept-Encoding: gzip\r",
      "\r\n",
      "X-Forwarded-For: 10.42.0.3\r",
      "\r\n",
      "X-Forwarded-Host: whoami-demo.com\r",
      "\r\n",
      "X-Forwarded-Port: 80\r",
      "\r\n",
      "X-Forwarded-Proto: http\r",
      "\r\n",
      "X-Forwarded-Server: traefik-55bd9646fc-gp6kb\r",
      "\r\n",
      "X-Real-Ip: 10.42.0.3\r",
      "\r\n",
      "\r",
      "\r\n"
     ]
    }
   ],
   "source": [
    "!curl -H \"Host: whoami-demo.com\" http://localhost"
   ]
  },
  {
   "cell_type": "code",
   "execution_count": 87,
   "metadata": {},
   "outputs": [
    {
     "name": "stdout",
     "output_type": "stream",
     "text": [
      "Hostname: whoami-6d996cf96f-vcxhx\r\n",
      "IP: 127.0.0.1\r\n",
      "IP: ::1\r\n",
      "IP: 10.42.0.5\r\n",
      "IP: fe80::d8e2:62ff:feab:5c07\r\n",
      "GET / HTTP/1.1\r",
      "\r\n",
      "Host: whoami-demo.com\r",
      "\r\n",
      "User-Agent: curl/7.54.0\r",
      "\r\n",
      "Accept: */*\r",
      "\r\n",
      "Accept-Encoding: gzip\r",
      "\r\n",
      "X-Forwarded-For: 10.42.0.3\r",
      "\r\n",
      "X-Forwarded-Host: whoami-demo.com\r",
      "\r\n",
      "X-Forwarded-Port: 80\r",
      "\r\n",
      "X-Forwarded-Proto: http\r",
      "\r\n",
      "X-Forwarded-Server: traefik-55bd9646fc-gp6kb\r",
      "\r\n",
      "X-Real-Ip: 10.42.0.3\r",
      "\r\n",
      "\r",
      "\r\n"
     ]
    }
   ],
   "source": [
    "!curl -H \"Host: whoami-demo.com\" http://localhost"
   ]
  },
  {
   "cell_type": "code",
   "execution_count": 88,
   "metadata": {},
   "outputs": [
    {
     "name": "stdout",
     "output_type": "stream",
     "text": [
      "Hostname: whoami-6d996cf96f-z9l5m\r\n",
      "IP: 127.0.0.1\r\n",
      "IP: ::1\r\n",
      "IP: 10.42.2.6\r\n",
      "IP: fe80::341e:63ff:fe38:38d2\r\n",
      "GET / HTTP/1.1\r",
      "\r\n",
      "Host: whoami-demo.com\r",
      "\r\n",
      "User-Agent: curl/7.54.0\r",
      "\r\n",
      "Accept: */*\r",
      "\r\n",
      "Accept-Encoding: gzip\r",
      "\r\n",
      "X-Forwarded-For: 10.42.0.3\r",
      "\r\n",
      "X-Forwarded-Host: whoami-demo.com\r",
      "\r\n",
      "X-Forwarded-Port: 80\r",
      "\r\n",
      "X-Forwarded-Proto: http\r",
      "\r\n",
      "X-Forwarded-Server: traefik-55bd9646fc-gp6kb\r",
      "\r\n",
      "X-Real-Ip: 10.42.0.3\r",
      "\r\n",
      "\r",
      "\r\n"
     ]
    }
   ],
   "source": [
    "!curl -H \"Host: whoami-demo.com\" http://localhost"
   ]
  },
  {
   "cell_type": "code",
   "execution_count": 89,
   "metadata": {},
   "outputs": [
    {
     "name": "stdout",
     "output_type": "stream",
     "text": [
      "Hostname: whoami-6d996cf96f-2zzhg\r\n",
      "IP: 127.0.0.1\r\n",
      "IP: ::1\r\n",
      "IP: 10.42.2.5\r\n",
      "IP: fe80::b490:97ff:febc:694d\r\n",
      "GET / HTTP/1.1\r",
      "\r\n",
      "Host: whoami-demo.com\r",
      "\r\n",
      "User-Agent: curl/7.54.0\r",
      "\r\n",
      "Accept: */*\r",
      "\r\n",
      "Accept-Encoding: gzip\r",
      "\r\n",
      "X-Forwarded-For: 10.42.0.3\r",
      "\r\n",
      "X-Forwarded-Host: whoami-demo.com\r",
      "\r\n",
      "X-Forwarded-Port: 80\r",
      "\r\n",
      "X-Forwarded-Proto: http\r",
      "\r\n",
      "X-Forwarded-Server: traefik-55bd9646fc-gp6kb\r",
      "\r\n",
      "X-Real-Ip: 10.42.0.3\r",
      "\r\n",
      "\r",
      "\r\n"
     ]
    }
   ],
   "source": [
    "!curl -H \"Host: whoami-demo.com\" http://localhost"
   ]
  },
  {
   "cell_type": "code",
   "execution_count": 90,
   "metadata": {},
   "outputs": [
    {
     "name": "stdout",
     "output_type": "stream",
     "text": [
      "NAME                              READY   STATUS    RESTARTS   AGE\r\n",
      "nginx-demo-dom-8487c9cb58-wllv2   1/1     Running   0          5m29s\r\n",
      "nginx-demo-dom-8487c9cb58-wnr6p   1/1     Running   0          5m29s\r\n",
      "whoami-6d996cf96f-2zzhg           1/1     Running   0          111s\r\n",
      "whoami-6d996cf96f-88fs2           1/1     Running   0          111s\r\n",
      "whoami-6d996cf96f-vcxhx           1/1     Running   0          111s\r\n",
      "whoami-6d996cf96f-z9l5m           1/1     Running   0          111s\r\n"
     ]
    }
   ],
   "source": [
    "!kubectl get pods"
   ]
  },
  {
   "cell_type": "markdown",
   "metadata": {},
   "source": [
    "## Graceful update via apply\n",
    "\n",
    "we used `replace` command before, which is suboptimal in prod systems, because K8s will kill resource and recreate it with new config. Better approach would be to use `apply` or `edit`. I'll use apply here only"
   ]
  },
  {
   "cell_type": "markdown",
   "metadata": {},
   "source": [
    "first, we have to load yaml config"
   ]
  },
  {
   "cell_type": "code",
   "execution_count": 91,
   "metadata": {},
   "outputs": [
    {
     "name": "stdout",
     "output_type": "stream",
     "text": [
      "apiVersion: extensions/v1beta1\r\n",
      "kind: Ingress\r\n",
      "metadata:\r\n",
      "  annotations:\r\n",
      "    ingress.kubernetes.io/ssl-redirect: \"false\"\r\n",
      "  creationTimestamp: \"2019-06-22T16:00:21Z\"\r\n",
      "  generation: 2\r\n",
      "  name: nginx-demo-dom\r\n",
      "  namespace: default\r\n",
      "  resourceVersion: \"630\"\r\n",
      "  selfLink: /apis/extensions/v1beta1/namespaces/default/ingresses/nginx-demo-dom\r\n",
      "  uid: d6e3f901-9506-11e9-bb0a-0242ac1c0002\r\n",
      "spec:\r\n",
      "  rules:\r\n",
      "  - host: k3d-ingress-demo.com\r\n",
      "    http:\r\n",
      "      paths:\r\n",
      "      - backend:\r\n",
      "          serviceName: nginx-demo-dom\r\n",
      "          servicePort: 8081\r\n",
      "  - host: whoami-demo.com\r\n",
      "    http:\r\n",
      "      paths:\r\n",
      "      - backend:\r\n",
      "          serviceName: whoami\r\n",
      "          servicePort: 8081\r\n",
      "status:\r\n",
      "  loadBalancer: {}\r\n"
     ]
    }
   ],
   "source": [
    "!kubectl get ingress nginx-demo-dom -o yaml "
   ]
  },
  {
   "cell_type": "markdown",
   "metadata": {},
   "source": [
    "copy paste above config and make required changes. Here I will change domain name"
   ]
  },
  {
   "cell_type": "code",
   "execution_count": 93,
   "metadata": {},
   "outputs": [
    {
     "name": "stdout",
     "output_type": "stream",
     "text": [
      "ingress.extensions/nginx-demo-dom configured\n"
     ]
    },
    {
     "name": "stderr",
     "output_type": "stream",
     "text": [
      "Warning: kubectl apply should be used on resource created by either kubectl create --save-config or kubectl apply\n"
     ]
    }
   ],
   "source": [
    "%%bash\n",
    "cat <<EOF | kubectl apply -f -\n",
    "apiVersion: extensions/v1beta1\n",
    "kind: Ingress\n",
    "metadata:\n",
    "  annotations:\n",
    "    ingress.kubernetes.io/ssl-redirect: \"false\"\n",
    "  creationTimestamp: \"2019-06-22T16:00:21Z\"\n",
    "  generation: 2\n",
    "  name: nginx-demo-dom\n",
    "  namespace: default\n",
    "  resourceVersion: \"630\"\n",
    "  selfLink: /apis/extensions/v1beta1/namespaces/default/ingresses/nginx-demo-dom\n",
    "  uid: d6e3f901-9506-11e9-bb0a-0242ac1c0002\n",
    "spec:\n",
    "  rules:\n",
    "  - host: k3d-ingress-demo.com\n",
    "    http:\n",
    "      paths:\n",
    "      - backend:\n",
    "          serviceName: nginx-demo-dom\n",
    "          servicePort: 8081\n",
    "  - host: whoami-demo-2.com\n",
    "    http:\n",
    "      paths:\n",
    "      - backend:\n",
    "          serviceName: whoami\n",
    "          servicePort: 8081\n",
    "status:\n",
    "  loadBalancer: {}\n",
    "EOF"
   ]
  },
  {
   "cell_type": "markdown",
   "metadata": {},
   "source": [
    "There is a warning `Warning: kubectl apply should be used on resource created by either kubectl create --save-config or kubectl apply`, which happened because of the way we've created ingress before. So either always use `replace` or `apply` or `create --save-config` in order to use applies."
   ]
  },
  {
   "cell_type": "code",
   "execution_count": 95,
   "metadata": {},
   "outputs": [
    {
     "name": "stdout",
     "output_type": "stream",
     "text": [
      "404 page not found\r\n"
     ]
    }
   ],
   "source": [
    "!curl -H \"Host: whoami-demo.com\" http://localhost"
   ]
  },
  {
   "cell_type": "code",
   "execution_count": 96,
   "metadata": {},
   "outputs": [
    {
     "name": "stdout",
     "output_type": "stream",
     "text": [
      "Hostname: whoami-6d996cf96f-88fs2\r\n",
      "IP: 127.0.0.1\r\n",
      "IP: ::1\r\n",
      "IP: 10.42.1.4\r\n",
      "IP: fe80::649e:f8ff:fe24:6c57\r\n",
      "GET / HTTP/1.1\r",
      "\r\n",
      "Host: whoami-demo-2.com\r",
      "\r\n",
      "User-Agent: curl/7.54.0\r",
      "\r\n",
      "Accept: */*\r",
      "\r\n",
      "Accept-Encoding: gzip\r",
      "\r\n",
      "X-Forwarded-For: 10.42.0.3\r",
      "\r\n",
      "X-Forwarded-Host: whoami-demo-2.com\r",
      "\r\n",
      "X-Forwarded-Port: 80\r",
      "\r\n",
      "X-Forwarded-Proto: http\r",
      "\r\n",
      "X-Forwarded-Server: traefik-55bd9646fc-gp6kb\r",
      "\r\n",
      "X-Real-Ip: 10.42.0.3\r",
      "\r\n",
      "\r",
      "\r\n"
     ]
    }
   ],
   "source": [
    "!curl -H \"Host: whoami-demo-2.com\" http://localhost"
   ]
  },
  {
   "cell_type": "code",
   "execution_count": 97,
   "metadata": {},
   "outputs": [
    {
     "name": "stdout",
     "output_type": "stream",
     "text": [
      "apiVersion: extensions/v1beta1\r\n",
      "kind: Ingress\r\n",
      "metadata:\r\n",
      "  annotations:\r\n",
      "    ingress.kubernetes.io/ssl-redirect: \"false\"\r\n",
      "    kubectl.kubernetes.io/last-applied-configuration: |\r\n",
      "      {\"apiVersion\":\"extensions/v1beta1\",\"kind\":\"Ingress\",\"metadata\":{\"annotations\":{\"ingress.kubernetes.io/ssl-redirect\":\"false\"},\"creationTimestamp\":\"2019-06-22T16:00:21Z\",\"generation\":2,\"name\":\"nginx-demo-dom\",\"namespace\":\"default\",\"resourceVersion\":\"630\",\"selfLink\":\"/apis/extensions/v1beta1/namespaces/default/ingresses/nginx-demo-dom\",\"uid\":\"d6e3f901-9506-11e9-bb0a-0242ac1c0002\"},\"spec\":{\"rules\":[{\"host\":\"k3d-ingress-demo.com\",\"http\":{\"paths\":[{\"backend\":{\"serviceName\":\"nginx-demo-dom\",\"servicePort\":8081}}]}},{\"host\":\"whoami-demo-2.com\",\"http\":{\"paths\":[{\"backend\":{\"serviceName\":\"whoami\",\"servicePort\":8081}}]}}]},\"status\":{\"loadBalancer\":{}}}\r\n",
      "  creationTimestamp: \"2019-06-22T16:00:21Z\"\r\n",
      "  generation: 3\r\n",
      "  name: nginx-demo-dom\r\n",
      "  namespace: default\r\n",
      "  resourceVersion: \"771\"\r\n",
      "  selfLink: /apis/extensions/v1beta1/namespaces/default/ingresses/nginx-demo-dom\r\n",
      "  uid: d6e3f901-9506-11e9-bb0a-0242ac1c0002\r\n",
      "spec:\r\n",
      "  rules:\r\n",
      "  - host: k3d-ingress-demo.com\r\n",
      "    http:\r\n",
      "      paths:\r\n",
      "      - backend:\r\n",
      "          serviceName: nginx-demo-dom\r\n",
      "          servicePort: 8081\r\n",
      "  - host: whoami-demo-2.com\r\n",
      "    http:\r\n",
      "      paths:\r\n",
      "      - backend:\r\n",
      "          serviceName: whoami\r\n",
      "          servicePort: 8081\r\n",
      "status:\r\n",
      "  loadBalancer: {}\r\n"
     ]
    }
   ],
   "source": [
    "!kubectl get ingress nginx-demo-dom -o yaml"
   ]
  },
  {
   "cell_type": "code",
   "execution_count": 98,
   "metadata": {
    "scrolled": true
   },
   "outputs": [
    {
     "name": "stdout",
     "output_type": "stream",
     "text": [
      "ingress.extensions/nginx-demo-dom configured\n"
     ]
    }
   ],
   "source": [
    "%%bash\n",
    "cat <<EOF | kubectl apply -f -\n",
    "apiVersion: extensions/v1beta1\n",
    "kind: Ingress\n",
    "metadata:\n",
    "  annotations:\n",
    "    ingress.kubernetes.io/ssl-redirect: \"false\"\n",
    "    kubectl.kubernetes.io/last-applied-configuration: |\n",
    "      {\"apiVersion\":\"extensions/v1beta1\",\"kind\":\"Ingress\",\"metadata\":{\"annotations\":{\"ingress.kubernetes.io/ssl-redirect\":\"false\"},\"creationTimestamp\":\"2019-06-22T16:00:21Z\",\"generation\":2,\"name\":\"nginx-demo-dom\",\"namespace\":\"default\",\"resourceVersion\":\"630\",\"selfLink\":\"/apis/extensions/v1beta1/namespaces/default/ingresses/nginx-demo-dom\",\"uid\":\"d6e3f901-9506-11e9-bb0a-0242ac1c0002\"},\"spec\":{\"rules\":[{\"host\":\"k3d-ingress-demo.com\",\"http\":{\"paths\":[{\"backend\":{\"serviceName\":\"nginx-demo-dom\",\"servicePort\":8081}}]}},{\"host\":\"whoami-demo-2.com\",\"http\":{\"paths\":[{\"backend\":{\"serviceName\":\"whoami\",\"servicePort\":8081}}]}}]},\"status\":{\"loadBalancer\":{}}}\n",
    "  creationTimestamp: \"2019-06-22T16:00:21Z\"\n",
    "  generation: 3\n",
    "  name: nginx-demo-dom\n",
    "  namespace: default\n",
    "  resourceVersion: \"771\"\n",
    "  selfLink: /apis/extensions/v1beta1/namespaces/default/ingresses/nginx-demo-dom\n",
    "  uid: d6e3f901-9506-11e9-bb0a-0242ac1c0002\n",
    "spec:\n",
    "  rules:\n",
    "  - host: k3d-ingress-demo.com\n",
    "    http:\n",
    "      paths:\n",
    "      - backend:\n",
    "          serviceName: nginx-demo-dom\n",
    "          servicePort: 8081\n",
    "  - host: whoami-demo.com\n",
    "    http:\n",
    "      paths:\n",
    "      - backend:\n",
    "          serviceName: whoami\n",
    "          servicePort: 8081\n",
    "status:\n",
    "  loadBalancer: {}\n",
    "EOF"
   ]
  },
  {
   "cell_type": "markdown",
   "metadata": {},
   "source": [
    "interesting, that for the second time we don't have this warning anymore"
   ]
  },
  {
   "cell_type": "code",
   "execution_count": 99,
   "metadata": {},
   "outputs": [
    {
     "name": "stdout",
     "output_type": "stream",
     "text": [
      "2019/06/22 18:17:48 Removing cluster [k3s-default]\n",
      "2019/06/22 18:17:48 ...Removing 2 workers\n",
      "2019/06/22 18:17:50 ...Removing server\n",
      "2019/06/22 18:17:52 SUCCESS: removed cluster [k3s-default]\n"
     ]
    }
   ],
   "source": [
    "# delete cluster\n",
    "!k3d d "
   ]
  },
  {
   "cell_type": "code",
   "execution_count": null,
   "metadata": {},
   "outputs": [],
   "source": []
  }
 ],
 "metadata": {
  "kernelspec": {
   "display_name": "Python 3",
   "language": "python",
   "name": "python3"
  },
  "language_info": {
   "codemirror_mode": {
    "name": "ipython",
    "version": 3
   },
   "file_extension": ".py",
   "mimetype": "text/x-python",
   "name": "python",
   "nbconvert_exporter": "python",
   "pygments_lexer": "ipython3",
   "version": "3.7.1"
  }
 },
 "nbformat": 4,
 "nbformat_minor": 2
}

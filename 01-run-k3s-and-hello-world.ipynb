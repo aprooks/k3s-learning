{
 "cells": [
  {
   "cell_type": "markdown",
   "metadata": {},
   "source": [
    "micro K8s tutorial via K3s. We could use minikube for it as well, but it does not let you spawn multiple nodes, which sucks\n",
    "\n",
    "Clone docker-compose from https://github.com/rancher/k3s/blob/master/docker-compose.yml"
   ]
  },
  {
   "cell_type": "code",
   "execution_count": 1,
   "metadata": {},
   "outputs": [
    {
     "name": "stderr",
     "output_type": "stream",
     "text": [
      "Creating network \"k8s_default\" with the default driver\n",
      "Creating volume \"k8s_k3s-server\" with default driver\n",
      "Creating k8s_server_1 ... \r\n",
      "\u001b[1A\u001b[2K\r",
      "Creating k8s_server_1 ... \u001b[32mdone\u001b[0m\r",
      "\u001b[1BCreating k8s_node_1   ... \r\n",
      "Creating k8s_node_2   ... \r\n",
      "Creating k8s_node_3   ... \r\n",
      "\u001b[3A\u001b[2K\r",
      "Creating k8s_node_1   ... \u001b[32mdone\u001b[0m\r",
      "\u001b[3B\u001b[2A\u001b[2K\r",
      "Creating k8s_node_2   ... \u001b[32mdone\u001b[0m\r",
      "\u001b[2B\u001b[1A\u001b[2K\r",
      "Creating k8s_node_3   ... \u001b[32mdone\u001b[0m\r",
      "\u001b[1B"
     ]
    }
   ],
   "source": [
    "%%bash\n",
    "\n",
    "docker-compose up -d --scale node=3"
   ]
  },
  {
   "cell_type": "code",
   "execution_count": 2,
   "metadata": {},
   "outputs": [
    {
     "name": "stdout",
     "output_type": "stream",
     "text": [
      "    Name                 Command             State              Ports           \r\n",
      "--------------------------------------------------------------------------------\r\n",
      "k8s_node_1     /bin/k3s agent                Up                                 \r\n",
      "k8s_node_2     /bin/k3s agent                Up                                 \r\n",
      "k8s_node_3     /bin/k3s agent                Up                                 \r\n",
      "k8s_server_1   /bin/k3s server --disable-    Up      0.0.0.0:6443->6443/tcp,    \r\n",
      "               ...                                   0.0.0.0:8888->80/tcp       \r\n"
     ]
    }
   ],
   "source": [
    "!docker-compose ps"
   ]
  },
  {
   "cell_type": "markdown",
   "metadata": {},
   "source": [
    "Copy kube config so that we could login\n"
   ]
  },
  {
   "cell_type": "code",
   "execution_count": 9,
   "metadata": {},
   "outputs": [],
   "source": [
    "!cp kubeconfig.yaml ~/.kube/config"
   ]
  },
  {
   "cell_type": "markdown",
   "metadata": {},
   "source": [
    "Try connection:\n",
    "\n",
    "should print 3 nodes. If you have connection error, run above command again. There might be a delay\n"
   ]
  },
  {
   "cell_type": "code",
   "execution_count": 10,
   "metadata": {},
   "outputs": [
    {
     "name": "stdout",
     "output_type": "stream",
     "text": [
      "NAME           STATUS    ROLES     AGE       VERSION\r\n",
      "8e6e3de3af5d   Ready     <none>    44s       v1.14.1-k3s.4\r\n",
      "cde3bc10967e   Ready     <none>    44s       v1.14.1-k3s.4\r\n",
      "f1119b2d4b3e   Ready     <none>    44s       v1.14.1-k3s.4\r\n"
     ]
    }
   ],
   "source": [
    "!kubectl get nodes"
   ]
  },
  {
   "cell_type": "code",
   "execution_count": 11,
   "metadata": {},
   "outputs": [
    {
     "name": "stdout",
     "output_type": "stream",
     "text": [
      "No resources found.\r\n"
     ]
    }
   ],
   "source": [
    "#should be empty\n",
    "!kubectl get pods"
   ]
  },
  {
   "cell_type": "code",
   "execution_count": 12,
   "metadata": {},
   "outputs": [
    {
     "name": "stdout",
     "output_type": "stream",
     "text": [
      "deployment.apps \"hello-world\" created\r\n"
     ]
    }
   ],
   "source": [
    "# this will deploy 2 a simple hello-world app\n",
    "!kubectl run hello-world \\\n",
    "    --replicas=2 \\\n",
    "    --labels=\"run=load-balancer-example\" \\\n",
    "    --image=gcr.io/google-samples/node-hello:1.0  \\\n",
    "    --port=8080"
   ]
  },
  {
   "cell_type": "code",
   "execution_count": 26,
   "metadata": {},
   "outputs": [
    {
     "name": "stdout",
     "output_type": "stream",
     "text": [
      "NAME                          READY     STATUS    RESTARTS   AGE\r\n",
      "hello-world-68ff65cf7-bf8hq   1/1       Running   0          16m\r\n",
      "hello-world-68ff65cf7-gbs6t   1/1       Running   0          16m\r\n"
     ]
    }
   ],
   "source": [
    "!kubectl get pods"
   ]
  },
  {
   "cell_type": "code",
   "execution_count": 27,
   "metadata": {},
   "outputs": [
    {
     "name": "stdout",
     "output_type": "stream",
     "text": [
      "NAME          DESIRED   CURRENT   UP-TO-DATE   AVAILABLE   AGE\r\n",
      "hello-world   2         2         2            2           16m\r\n"
     ]
    }
   ],
   "source": [
    "# hIf you network is slow enough you'll see availeble: 0\n",
    "\n",
    "!kubectl get deployments"
   ]
  },
  {
   "cell_type": "code",
   "execution_count": 28,
   "metadata": {},
   "outputs": [
    {
     "name": "stdout",
     "output_type": "stream",
     "text": [
      "Name:               hello-world-68ff65cf7-bf8hq\r\n",
      "Namespace:          default\r\n",
      "Priority:           0\r\n",
      "PriorityClassName:  <none>\r\n",
      "Node:               f1119b2d4b3e/172.25.0.4\r\n",
      "Start Time:         Sat, 15 Jun 2019 23:09:27 +0200\r\n",
      "Labels:             pod-template-hash=68ff65cf7\r\n",
      "                    run=load-balancer-example\r\n",
      "Annotations:        <none>\r\n",
      "Status:             Running\r\n",
      "IP:                 10.42.2.3\r\n",
      "Controlled By:      ReplicaSet/hello-world-68ff65cf7\r\n",
      "Containers:\r\n",
      "  hello-world:\r\n",
      "    Container ID:   containerd://fb57d56f5739307ba672c88efb705c532f2ef2d8483fc04a02b3dee570199bc8\r\n",
      "    Image:          gcr.io/google-samples/node-hello:1.0\r\n",
      "    Image ID:       sha256:9ef4b4c241fc28ce894a57a7cb218b796838fdccf15515d784791abc2ffc1ee6\r\n",
      "    Port:           8080/TCP\r\n",
      "    Host Port:      0/TCP\r\n",
      "    State:          Running\r\n",
      "      Started:      Sat, 15 Jun 2019 23:17:04 +0200\r\n",
      "    Ready:          True\r\n",
      "    Restart Count:  0\r\n",
      "    Environment:    <none>\r\n",
      "    Mounts:\r\n",
      "      /var/run/secrets/kubernetes.io/serviceaccount from default-token-4lzqx (ro)\r\n",
      "Conditions:\r\n",
      "  Type              Status\r\n",
      "  Initialized       True \r\n",
      "  Ready             True \r\n",
      "  ContainersReady   True \r\n",
      "  PodScheduled      True \r\n",
      "Volumes:\r\n",
      "  default-token-4lzqx:\r\n",
      "    Type:        Secret (a volume populated by a Secret)\r\n",
      "    SecretName:  default-token-4lzqx\r\n",
      "    Optional:    false\r\n",
      "QoS Class:       BestEffort\r\n",
      "Node-Selectors:  <none>\r\n",
      "Tolerations:     node.kubernetes.io/not-ready:NoExecute for 300s\r\n",
      "                 node.kubernetes.io/unreachable:NoExecute for 300s\r\n",
      "Events:\r\n",
      "  Type    Reason     Age   From                   Message\r\n",
      "  ----    ------     ----  ----                   -------\r\n",
      "  Normal  Scheduled  16m   default-scheduler      Successfully assigned default/hello-world-68ff65cf7-bf8hq to f1119b2d4b3e\r\n",
      "  Normal  Pulling    16m   kubelet, f1119b2d4b3e  Pulling image \"gcr.io/google-samples/node-hello:1.0\"\r\n",
      "  Normal  Pulled     9m    kubelet, f1119b2d4b3e  Successfully pulled image \"gcr.io/google-samples/node-hello:1.0\"\r\n",
      "  Normal  Created    9m    kubelet, f1119b2d4b3e  Created container hello-world\r\n",
      "  Normal  Started    9m    kubelet, f1119b2d4b3e  Started container hello-world\r\n",
      "\r\n",
      "\r\n",
      "Name:               hello-world-68ff65cf7-gbs6t\r\n",
      "Namespace:          default\r\n",
      "Priority:           0\r\n",
      "PriorityClassName:  <none>\r\n",
      "Node:               8e6e3de3af5d/172.25.0.5\r\n",
      "Start Time:         Sat, 15 Jun 2019 23:09:27 +0200\r\n",
      "Labels:             pod-template-hash=68ff65cf7\r\n",
      "                    run=load-balancer-example\r\n",
      "Annotations:        <none>\r\n",
      "Status:             Running\r\n",
      "IP:                 10.42.0.2\r\n",
      "Controlled By:      ReplicaSet/hello-world-68ff65cf7\r\n",
      "Containers:\r\n",
      "  hello-world:\r\n",
      "    Container ID:   containerd://06a02fec5661a112aacedac37c0ee14ee0273e29b8a995c111974009cc4cdbd0\r\n",
      "    Image:          gcr.io/google-samples/node-hello:1.0\r\n",
      "    Image ID:       sha256:9ef4b4c241fc28ce894a57a7cb218b796838fdccf15515d784791abc2ffc1ee6\r\n",
      "    Port:           8080/TCP\r\n",
      "    Host Port:      0/TCP\r\n",
      "    State:          Running\r\n",
      "      Started:      Sat, 15 Jun 2019 23:18:22 +0200\r\n",
      "    Ready:          True\r\n",
      "    Restart Count:  0\r\n",
      "    Environment:    <none>\r\n",
      "    Mounts:\r\n",
      "      /var/run/secrets/kubernetes.io/serviceaccount from default-token-4lzqx (ro)\r\n",
      "Conditions:\r\n",
      "  Type              Status\r\n",
      "  Initialized       True \r\n",
      "  Ready             True \r\n",
      "  ContainersReady   True \r\n",
      "  PodScheduled      True \r\n",
      "Volumes:\r\n",
      "  default-token-4lzqx:\r\n",
      "    Type:        Secret (a volume populated by a Secret)\r\n",
      "    SecretName:  default-token-4lzqx\r\n",
      "    Optional:    false\r\n",
      "QoS Class:       BestEffort\r\n",
      "Node-Selectors:  <none>\r\n",
      "Tolerations:     node.kubernetes.io/not-ready:NoExecute for 300s\r\n",
      "                 node.kubernetes.io/unreachable:NoExecute for 300s\r\n",
      "Events:\r\n",
      "  Type    Reason     Age   From                   Message\r\n",
      "  ----    ------     ----  ----                   -------\r\n",
      "  Normal  Scheduled  16m   default-scheduler      Successfully assigned default/hello-world-68ff65cf7-gbs6t to 8e6e3de3af5d\r\n",
      "  Normal  Pulling    16m   kubelet, 8e6e3de3af5d  Pulling image \"gcr.io/google-samples/node-hello:1.0\"\r\n",
      "  Normal  Pulled     7m    kubelet, 8e6e3de3af5d  Successfully pulled image \"gcr.io/google-samples/node-hello:1.0\"\r\n",
      "  Normal  Created    7m    kubelet, 8e6e3de3af5d  Created container hello-world\r\n",
      "  Normal  Started    7m    kubelet, 8e6e3de3af5d  Started container hello-world\r\n"
     ]
    }
   ],
   "source": [
    "# ere will be detailed info on each pod\n",
    "!kubectl describe pods"
   ]
  },
  {
   "cell_type": "markdown",
   "metadata": {},
   "source": [
    "Pods are like docker instances. They have lifetime, and no orchestration. To expose ports to outworld we have to create a service."
   ]
  },
  {
   "cell_type": "code",
   "execution_count": 32,
   "metadata": {
    "scrolled": true
   },
   "outputs": [
    {
     "name": "stdout",
     "output_type": "stream",
     "text": [
      "Name:              kubernetes\r\n",
      "Namespace:         default\r\n",
      "Labels:            component=apiserver\r\n",
      "                   provider=kubernetes\r\n",
      "Annotations:       <none>\r\n",
      "Selector:          <none>\r\n",
      "Type:              ClusterIP\r\n",
      "IP:                10.43.0.1\r\n",
      "Port:              https  443/TCP\r\n",
      "TargetPort:        6445/TCP\r\n",
      "Endpoints:         127.0.0.1:6445\r\n",
      "Session Affinity:  None\r\n",
      "Events:            <none>\r\n"
     ]
    }
   ],
   "source": [
    "# at this point we don't have any service\n",
    "!kubectl describe services"
   ]
  },
  {
   "cell_type": "markdown",
   "metadata": {},
   "source": [
    "Expose a deployemnt for pods with name 'example-service'.\n",
    "Simplest networking type would be NodePort, which will expose port on a public IP of each nodee. Not very usefull but enough for the start"
   ]
  },
  {
   "cell_type": "code",
   "execution_count": 33,
   "metadata": {},
   "outputs": [
    {
     "name": "stdout",
     "output_type": "stream",
     "text": [
      "service \"example-service\" exposed\r\n"
     ]
    }
   ],
   "source": [
    "!kubectl expose deployment hello-world \\\n",
    "    --type=NodePort \\\n",
    "    --name=example-service"
   ]
  },
  {
   "cell_type": "code",
   "execution_count": 34,
   "metadata": {},
   "outputs": [
    {
     "name": "stdout",
     "output_type": "stream",
     "text": [
      "Name:                     example-service\n",
      "Namespace:                default\n",
      "Labels:                   run=load-balancer-example\n",
      "Annotations:              <none>\n",
      "Selector:                 run=load-balancer-example\n",
      "Type:                     NodePort\n",
      "IP:                       10.43.192.14\n",
      "Port:                     <unset>  8080/TCP\n",
      "TargetPort:               8080/TCP\n",
      "NodePort:                 <unset>  32346/TCP\n",
      "Endpoints:                10.42.0.2:8080,10.42.2.3:8080\n",
      "Session Affinity:         None\n",
      "External Traffic Policy:  Cluster\n",
      "Events:                   <none>\n",
      "\n",
      "\n",
      "Name:              kubernetes\n",
      "Namespace:         default\n",
      "Labels:            component=apiserver\n",
      "                   provider=kubernetes\n",
      "Annotations:       <none>\n",
      "Selector:          <none>\n",
      "Type:              ClusterIP\n",
      "IP:                10.43.0.1\n",
      "Port:              https  443/TCP\n",
      "TargetPort:        6445/TCP\n",
      "Endpoints:         127.0.0.1:6445\n",
      "Session Affinity:  None\n",
      "Events:            <none>\n"
     ]
    }
   ],
   "source": [
    "!kubectl describe services"
   ]
  },
  {
   "cell_type": "code",
   "execution_count": 35,
   "metadata": {},
   "outputs": [
    {
     "name": "stdout",
     "output_type": "stream",
     "text": [
      "NAME                          READY     STATUS    RESTARTS   AGE       IP          NODE\r\n",
      "hello-world-68ff65cf7-bf8hq   1/1       Running   0          20m       10.42.2.3   f1119b2d4b3e\r\n",
      "hello-world-68ff65cf7-gbs6t   1/1       Running   0          20m       10.42.0.2   8e6e3de3af5d\r\n"
     ]
    }
   ],
   "source": [
    "# load pods with public IPs\n",
    "!kubectl get pods --selector=\"run=load-balancer-example\" --output=wide"
   ]
  },
  {
   "cell_type": "markdown",
   "metadata": {},
   "source": [
    "take an ip from output and use in the following command. We use docker-compose and have no access to the internals of nodes. "
   ]
  },
  {
   "cell_type": "code",
   "execution_count": 37,
   "metadata": {},
   "outputs": [
    {
     "name": "stdout",
     "output_type": "stream",
     "text": [
      "Hello Kubernetes!"
     ]
    }
   ],
   "source": [
    "!docker exec -t k8s_node_1 wget -qO- 10.42.2.3:8080"
   ]
  },
  {
   "cell_type": "markdown",
   "metadata": {},
   "source": [
    "If you see \"Hello Kubernetes\", then it works. Another hack would be to use `kubectl port-forward {podName}` command which would run a proxy to the pod"
   ]
  },
  {
   "cell_type": "markdown",
   "metadata": {},
   "source": [
    "Cleaning up: Graceful service deletion"
   ]
  },
  {
   "cell_type": "code",
   "execution_count": 38,
   "metadata": {},
   "outputs": [
    {
     "name": "stdout",
     "output_type": "stream",
     "text": [
      "service \"example-service\" deleted\r\n"
     ]
    }
   ],
   "source": [
    "!kubectl delete service example-service"
   ]
  },
  {
   "cell_type": "markdown",
   "metadata": {},
   "source": [
    "# Exterminatus !\n",
    "\n",
    "cleanup docker-compose and k8s cluster with all of it information and state"
   ]
  },
  {
   "cell_type": "code",
   "execution_count": 39,
   "metadata": {},
   "outputs": [
    {
     "name": "stdout",
     "output_type": "stream",
     "text": [
      "Stopping k8s_node_2   ... \n",
      "Stopping k8s_node_3   ... \n",
      "Stopping k8s_node_1   ... \n",
      "Stopping k8s_server_1 ... \n",
      "\u001b[1Bping k8s_server_1 ... \u001b[32mdone\u001b[0m\u001b[4A\u001b[2K\u001b[3A\u001b[2K\u001b[1A\u001b[2KRemoving k8s_node_2   ... \n",
      "Removing k8s_node_3   ... \n",
      "Removing k8s_node_1   ... \n",
      "Removing k8s_server_1 ... \n",
      "\u001b[2Bving k8s_node_1   ... \u001b[32mdone\u001b[0mRemoving network k8s_default\n",
      "k8s_k3s-server\n"
     ]
    }
   ],
   "source": [
    "!docker-compose down\n",
    "!docker volume rm k8s_k3s-server\n"
   ]
  },
  {
   "cell_type": "code",
   "execution_count": null,
   "metadata": {},
   "outputs": [],
   "source": []
  }
 ],
 "metadata": {
  "kernelspec": {
   "display_name": "Python 3",
   "language": "python",
   "name": "python3"
  },
  "language_info": {
   "codemirror_mode": {
    "name": "ipython",
    "version": 3
   },
   "file_extension": ".py",
   "mimetype": "text/x-python",
   "name": "python",
   "nbconvert_exporter": "python",
   "pygments_lexer": "ipython3",
   "version": "3.7.1"
  }
 },
 "nbformat": 4,
 "nbformat_minor": 2
}
